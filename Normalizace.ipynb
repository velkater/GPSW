{
 "cells": [
  {
   "cell_type": "code",
   "execution_count": 1,
   "metadata": {
    "collapsed": true
   },
   "outputs": [],
   "source": [
    "import zpu\n",
    "import re"
   ]
  },
  {
   "cell_type": "code",
   "execution_count": 2,
   "metadata": {
    "collapsed": false
   },
   "outputs": [],
   "source": [
    "def makeBiseq(delta, theta):\n",
    "    \"\"\"Makes one sequence from tje bi-sequence delta andm theta\"\"\"\n",
    "    if len(delta) != len(theta):\n",
    "            print(\"délky delta a theta nejsou stejné\")\n",
    "            return \n",
    "    s = \"\"\n",
    "    for i in range(len(delta)):\n",
    "        s = s + delta[i] + theta[i]\n",
    "    return s\n",
    "def parseBiseq(biseq):\n",
    "    \"\"\"Makes from one sequence the bi-sequence delta and theta\"\"\"\n",
    "    delta = \"\"\n",
    "    theta = \"\"\n",
    "    for i in range(len(biseq)):\n",
    "        if i%2 == 0:\n",
    "            delta = delta + biseq[i]\n",
    "        else:\n",
    "            theta = theta + biseq[i]\n",
    "    return [delta, theta]"
   ]
  },
  {
   "cell_type": "code",
   "execution_count": 3,
   "metadata": {
    "collapsed": true
   },
   "outputs": [],
   "source": [
    "bad_prefixes = [\"(0R)*0E\", \"(1R)*1E\", \"(0R)+1E1E\", \"(1R)+0E0E\"]\n",
    "bad_factors = [\"1R0E1E\", \"1R1E0E\", \"0R0E1E\", \"0R1E0E\", \"1E0R1R\", \"1E1R0R\", \"0E0R1R\", \"0E1R0R\"]"
   ]
  },
  {
   "cell_type": "code",
   "execution_count": 4,
   "metadata": {
    "collapsed": false
   },
   "outputs": [],
   "source": [
    "def repare_ii(match, a):\n",
    "    a_bar = [\"1\", \"0\"]\n",
    "    length = match.end()\n",
    "    s = match.string\n",
    "    s = s[length:]\n",
    "    s = a_bar[int(a)] + \"E\" + s\n",
    "    s = (a + \"R\") * int(length/2) + s\n",
    "    return s\n",
    "    \n",
    "def repare_iii(match, a):\n",
    "    a_bar = [\"1\", \"0\"]\n",
    "    length = match.end()\n",
    "    s = match.string\n",
    "    s = s[length:]\n",
    "    s = a_bar[int(a)] + \"E\" + a_bar[int(a)] + \"R\" + a + \"E\" + s\n",
    "    s = (a + \"R\") * int((length-4)/2) + s\n",
    "    return s\n",
    "    \n",
    "def rep_0(match):\n",
    "    return repare_ii(match, \"0\")\n",
    "    \n",
    "def rep_1(match):\n",
    "    return repare_ii(match, \"1\")\n",
    "    \n",
    "def rep_2(match):\n",
    "    return repare_iii(match, \"0\")\n",
    "    \n",
    "def rep_3(match):\n",
    "    return repare_iii(match, \"1\")\n",
    "    \n",
    "norm_replace_functions = [rep_0, rep_1, rep_2, rep_3]"
   ]
  },
  {
   "cell_type": "code",
   "execution_count": 5,
   "metadata": {
    "collapsed": false
   },
   "outputs": [],
   "source": [
    "def Normalize(delta, theta):\n",
    "    biseq = makeBiseq(delta, theta)\n",
    "    if biseq.startswith(\"0R1R\"):\n",
    "        biseq = biseq.replace(\"0R1R\", \"0R1E0R\", 1)\n",
    "    elif biseq.startswith(\"1R0R\"):\n",
    "        biseq = biseq.replace(\"1R0R\", \"1R0E1R\", 1)\n",
    "    else:\n",
    "        i = 0\n",
    "        matched = re.match(bad_prefixes[i], biseq)\n",
    "        #print(matched)\n",
    "        while (i<4) and (matched == None):\n",
    "            i = i+1\n",
    "            if i<4:\n",
    "                matched = re.match(bad_prefixes[i], biseq)\n",
    "                #print(matched)\n",
    "            \n",
    "        if i < 4:\n",
    "            #print(\"pattern: \" + str(i))\n",
    "            biseq = norm_replace_functions[i](matched)\n",
    "    \n",
    "    i=0\n",
    "    while (i < len(biseq) - 5):\n",
    "        j = 0\n",
    "        while (j <  8) and (biseq[i:i+6] != bad_factors[j]):\n",
    "            j = j+1\n",
    "        if (j == 8):\n",
    "            i = i+1\n",
    "        else:\n",
    "            bad = bad_factors[j]\n",
    "            #print(parseBiseq(bad))\n",
    "            biseq = biseq.replace(bad, bad[0:5] + bad[1] + bad[2:4], 1)\n",
    "            #print(parseBiseq(biseq))\n",
    "            i = max(0, i+2)\n",
    "    return parseBiseq(biseq)"
   ]
  },
  {
   "cell_type": "code",
   "execution_count": 6,
   "metadata": {
    "collapsed": false
   },
   "outputs": [],
   "source": [
    "def isNormalized(delta, theta):\n",
    "    biseq = makeBiseq(delta, theta)\n",
    "    if biseq.startswith(\"0R1R\") or biseq.startswith(\"1R0R\"):\n",
    "        print(\"je tam RR aa*\")\n",
    "        return False\n",
    "    elif (re.match(bad_prefixes[0], biseq) != None) or (re.match(bad_prefixes[1], biseq) != None):\n",
    "        print(\"je tam R^iE a^i\")\n",
    "        return False\n",
    "    elif (re.match(bad_prefixes[2], biseq) != None) or (re.match(bad_prefixes[3], biseq) != None):\n",
    "        print(\"je tam R^iEE a^ia*a*\")\n",
    "        return False\n",
    "    elif any(x in biseq for x in bad_factors):\n",
    "        print(\"ve slove je tt*t* abb*\")\n",
    "        return False\n",
    "    else:\n",
    "        return True"
   ]
  },
  {
   "cell_type": "code",
   "execution_count": 7,
   "metadata": {
    "collapsed": false
   },
   "outputs": [
    {
     "name": "stdout",
     "output_type": "stream",
     "text": [
      "je tam RR aa*\n",
      "False\n"
     ]
    }
   ],
   "source": [
    "print(isNormalized(\"010000\", \"RREEEE\"))"
   ]
  },
  {
   "cell_type": "code",
   "execution_count": 8,
   "metadata": {
    "collapsed": true
   },
   "outputs": [],
   "source": [
    "def rreplace(s, old, new, occurrence):\n",
    "    li = s.rsplit(old, occurrence)\n",
    "    return new.join(li)"
   ]
  },
  {
   "cell_type": "code",
   "execution_count": 9,
   "metadata": {
    "collapsed": false
   },
   "outputs": [],
   "source": [
    "def maximizeRinBiseq(delta, theta):\n",
    "    delta, theta = Normalize(delta, theta)\n",
    "    biseq = makeBiseq(delta, theta)\n",
    "    print(biseq)\n",
    "    badfact = [\"0E0R1E0R\", \"0E1R0E1R\", \"1E0R1E0R\", \"1E1R0E1R\" ]\n",
    "    replacement = [\"0E0R1R\", \"0E1R0R\", \"1E0R1R\", \"1E1R0R\" ]\n",
    "    l = len(biseq)\n",
    "    if l >= 8:\n",
    "        i = l-8\n",
    "        while (i >= 0):\n",
    "            j=0\n",
    "            substring = biseq[i:i+8]\n",
    "            while (j <  4) and (substring != badfact[j]):\n",
    "                j = j+1\n",
    "            if (j == 4):\n",
    "                i = i-1\n",
    "            else:\n",
    "                bad = badfact[j]\n",
    "                print(parseBiseq(bad))\n",
    "                biseq = rreplace(biseq, substring, replacement[j],1)\n",
    "                print(parseBiseq(biseq))\n",
    "                i = i-2\n",
    "    if biseq.startswith(\"1R0E1R\"):\n",
    "        biseq = biseq.replace(\"0R1E0R\", \"0R1R\", 1)\n",
    "    elif biseq.startswith(\"1R0R\"):\n",
    "        biseq = biseq.replace(\"1R0E1R\", \"1R0R\", 1)\n",
    "        \n",
    "    return parseBiseq(biseq)\n",
    "            "
   ]
  },
  {
   "cell_type": "code",
   "execution_count": 10,
   "metadata": {
    "collapsed": false
   },
   "outputs": [
    {
     "name": "stdout",
     "output_type": "stream",
     "text": [
      "0R1E0R1E0R1E1R0E1R\n",
      "['1101', 'ERER']\n",
      "['01010110', 'RERERERR']\n",
      "['1010', 'ERER']\n",
      "['0101110', 'RERRERR']\n"
     ]
    },
    {
     "data": {
      "text/plain": [
       "['0101110', 'RERRERR']"
      ]
     },
     "execution_count": 10,
     "metadata": {},
     "output_type": "execute_result"
    }
   ],
   "source": [
    "maximizeRinBiseq(\"000101\", \"EEERER\")"
   ]
  },
  {
   "cell_type": "code",
   "execution_count": 11,
   "metadata": {
    "collapsed": false
   },
   "outputs": [
    {
     "name": "stdout",
     "output_type": "stream",
     "text": [
      "['0101010101101', 'RERERERERERER']\n",
      "True\n",
      "\n",
      "['0100101010101101', 'RERRERERERERERER']\n",
      "True\n",
      "['1110010101010101101', 'RRRERERERERERERERER']\n",
      "True\n"
     ]
    }
   ],
   "source": [
    "p = Normalize(\"0101010010\", \"REREREEERR\")\n",
    "print(p)\n",
    "print(isNormalized(p[0], p[1]))\n",
    "print(\"\")\n",
    "\n",
    "r = Normalize(\"010101010010\", \"RRREREREEERR\")\n",
    "print(r)\n",
    "print(isNormalized(r[0], r[1]))\n",
    "\n",
    "t = Normalize(\"111000101010010\", \"RRREEREREREEERR\")\n",
    "print(t)\n",
    "print(isNormalized(t[0], t[1]))"
   ]
  },
  {
   "cell_type": "code",
   "execution_count": null,
   "metadata": {
    "collapsed": true
   },
   "outputs": [],
   "source": []
  }
 ],
 "metadata": {
  "kernelspec": {
   "display_name": "Python 3",
   "language": "python",
   "name": "python3"
  },
  "language_info": {
   "codemirror_mode": {
    "name": "ipython",
    "version": 3
   },
   "file_extension": ".py",
   "mimetype": "text/x-python",
   "name": "python",
   "nbconvert_exporter": "python",
   "pygments_lexer": "ipython3",
   "version": "3.5.0"
  }
 },
 "nbformat": 4,
 "nbformat_minor": 0
}
