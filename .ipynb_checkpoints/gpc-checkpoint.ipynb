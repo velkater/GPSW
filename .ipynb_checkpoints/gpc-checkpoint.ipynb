{
 "cells": [
  {
   "cell_type": "markdown",
   "metadata": {},
   "source": [
    "# Generalized pseudopalindromic closure"
   ]
  },
  {
   "cell_type": "markdown",
   "metadata": {},
   "source": [
    "## Functions for generalized pseudostandard (GPS) words on binary alphabet"
   ]
  },
  {
   "cell_type": "code",
   "execution_count": 1,
   "metadata": {
    "collapsed": true
   },
   "outputs": [],
   "source": [
    "import time\n",
    "import re"
   ]
  },
  {
   "cell_type": "code",
   "execution_count": 2,
   "metadata": {
    "collapsed": true
   },
   "outputs": [],
   "source": [
    "verbose = 0\n",
    "verboseprint = lambda x,y: print(y) if verbose >= x else None"
   ]
  },
  {
   "cell_type": "code",
   "execution_count": 1,
   "metadata": {
    "collapsed": true
   },
   "outputs": [],
   "source": [
    "def isPal(seq):\n",
    "    \"\"\"Checks if a string is a palindrome.\"\"\"\n",
    "    l = len(seq)\n",
    "    if l == 1:\n",
    "        return(True)\n",
    "    for x in range(0, l // 2):\n",
    "        if seq[x] != seq[l - 1 - x]:\n",
    "            return(False)\n",
    "    return(True)\n",
    "\n",
    "\n",
    "def isEpal(seq):\n",
    "    \"\"\"Checks if a string is a E-palindrome.\"\"\"\n",
    "    l = len(seq)\n",
    "    if l % 2 == 1:\n",
    "        return(False)\n",
    "    for x in range(0, l // 2):\n",
    "        if seq[x] == seq[l - 1 - x]:\n",
    "            return(False)\n",
    "    return(True)"
   ]
  },
  {
   "cell_type": "code",
   "execution_count": 16,
   "metadata": {
    "collapsed": false
   },
   "outputs": [],
   "source": [
    "def makePalClosure(seq):\n",
    "    \"\"\"Makes palindromic closure from a string.\"\"\"\n",
    "    if isPal(seq) == True:\n",
    "        return(seq)\n",
    "    i = 1\n",
    "    while isPal(seq[i:]) != True:\n",
    "        i = i + 1\n",
    "    verboseprint(2,\n",
    "                 \"{0} longest palindromic\\\n",
    "                 closure: {1}\".format(seq, seq[i:]))\n",
    "    closure = seq + seq[i - 1::-1]\n",
    "    return(closure)\n",
    "\n",
    "\n",
    "def makeEpalClosure(seq):\n",
    "    \"\"\"Makes E-palindromic closure from a string.\"\"\"\n",
    "    if isEpal(seq) == True:\n",
    "        return(seq)\n",
    "    i = 1\n",
    "    while isEpal(seq[i:]) != True:\n",
    "        i = i + 1\n",
    "    verboseprint(2, \"{0} longest E-palindromic\\\n",
    "                 closure: {1}\".format(seq, seq[i:]))\n",
    "    closure = seq\n",
    "    pref = seq[i - 1::-1]\n",
    "    for letter in pref:\n",
    "        if letter == \"0\":\n",
    "            closure = closure + \"1\"\n",
    "        if letter == \"1\":\n",
    "            closure = closure + \"0\"\n",
    "    return(closure)"
   ]
  },
  {
   "cell_type": "code",
   "execution_count": 17,
   "metadata": {
    "collapsed": true
   },
   "outputs": [],
   "source": [
    "def makeWord(delta, theta, steps, seed=\"\"):\n",
    "    \"\"\"Makes a GPS word from the directive bi-sequence (delta, theta), \n",
    "    optionally with some seed.\"\"\"\n",
    "    w = seed\n",
    "    for step in range(0, steps):\n",
    "        w = w + delta[step]\n",
    "        if theta[step] == \"R\":\n",
    "            w = makePalClosure(w)\n",
    "        elif theta[step] == \"E\":\n",
    "            w = makeEpalClosure(w)\n",
    "        else:\n",
    "            print(\"wrong symbol\")\n",
    "            break\n",
    "        verboseprint(2, \"w{0} = {1}\".format(step + 1, w))\n",
    "    return(w)"
   ]
  },
  {
   "cell_type": "code",
   "execution_count": 4,
   "metadata": {
    "collapsed": true
   },
   "outputs": [],
   "source": [
    "def makeS(word):\n",
    "    \"\"\"Returns the result of the operation S on some word.\"\"\"\n",
    "    Sword = \"\"\n",
    "    for i in range(0,len(word)-1):\n",
    "        Sword += str((int(word[i]) + int(word[i+1])) %2)\n",
    "    return Sword"
   ]
  },
  {
   "cell_type": "code",
   "execution_count": 26,
   "metadata": {
    "collapsed": false
   },
   "outputs": [],
   "source": [
    "def isGPSNaive(word, closure=\"ER\", max_no_matters_closure_type=0):\n",
    "    \"\"\"Checks if some word can be a GPS word and if so, returns the \n",
    "    beginning of its normalized directive bi-sequence.\"\"\"\n",
    "    maximum = max_no_matters_closure_type\n",
    "    l = 1\n",
    "    prefixes = []\n",
    "    # Finding all pseudopalindromic prefixes\n",
    "    while l <= len(word):\n",
    "        if ((l <= maximum or closure != \"E\") and isPal(word[:l])) or \\\n",
    "        ((l <= maximum or closure != \"R\") and isEpal(word[:l])):\n",
    "            prefixes.append(word[:l])\n",
    "        l = l + 1\n",
    "    verboseprint(1, prefixes)\n",
    "\n",
    "    # Trivial conditions that must hold\n",
    "    if not prefixes:\n",
    "        verboseprint(1, \"No prefixes of type \" + str(closure))\n",
    "        return([False])\n",
    "    if (len(prefixes[0]) > 2) or (((len(prefixes[-1])+1)*2) < len(word)):\n",
    "        return([False])\n",
    "\n",
    "    # Preparing (\\Delta, \\Theta)\n",
    "    iszps = True\n",
    "    i = 0\n",
    "    if closure != \"E\":\n",
    "        newtheta = \"R\"\n",
    "        newdelta = prefixes[0]\n",
    "    else:\n",
    "        newtheta = \"E\"\n",
    "        newdelta = prefixes[0][0]\n",
    "    \n",
    "    # Checking of prefixes can be obtained by permitted closures\n",
    "    while(i + 1 < len(prefixes) and iszps == True):\n",
    "        newletter = prefixes[i + 1][len(prefixes[i])]\n",
    "        condition_noE = (len(prefixes[i + 1]) <= maximum) or (closure != \"E\")\n",
    "        condition_noR = (len(prefixes[i + 1]) <= maximum) or (closure != \"R\")\n",
    "        if (condition_noE):\n",
    "            palclo = makePalClosure(prefixes[i] + newletter)\n",
    "        if (condition_noR):\n",
    "            epalclo = makeEpalClosure(prefixes[i] + newletter)\n",
    "\n",
    "        # If so, adding the new symbol to \\Delta and \\Theta\n",
    "        if(condition_noE and palclo == prefixes[i + 1]):\n",
    "            newtheta = newtheta + \"R\"\n",
    "            newdelta = newdelta + newletter\n",
    "        elif(condition_noR and epalclo == prefixes[i + 1]):\n",
    "            newtheta = newtheta + \"E\"\n",
    "            newdelta = newdelta + newletter\n",
    "        else:\n",
    "            iszps = False\n",
    "        i = i + 1\n",
    "    return([iszps, newdelta, newtheta])"
   ]
  },
  {
   "cell_type": "code",
   "execution_count": 25,
   "metadata": {
    "collapsed": true
   },
   "outputs": [],
   "source": [
    "def rindex(mylist, myelement):\n",
    "    '''Returns the last index of some element in a list'''\n",
    "    return len(mylist) - mylist[::-1].index(myelement) - 1\n",
    "\n",
    "\n",
    "def isGPS(word, closure=\"ER\", max_no_matters_closure_type=0):\n",
    "    '''Checks if some word can be a GPS word and if so, returns the \n",
    "    beginning of its normalized directive bi-sequence, \n",
    "    using the generalization of Justin's formula.'''\n",
    "    maximum = max_no_matters_closure_type\n",
    "    length = len(word)\n",
    "    l = 1\n",
    "    \n",
    "    # Pseudopalindromic prefixes and the following letter\n",
    "    prefixes = [[\"R\", word[0]], [\"E\", word[0]]]\n",
    "    # Trick: Pseudopalindromic prefixes of length 0 to handle the\n",
    "    # case of w_{k+1} = w_kw_k\n",
    "    \n",
    "    # Lengths of pseudopalindromic prefixes\n",
    "    lengths = [0, 0]\n",
    "    iszps = True\n",
    "    newT = \"\"\n",
    "\n",
    "    while l <= len(word) and iszps == True:\n",
    "        # Finding w_{k+1}\n",
    "        while l <= len(word):\n",
    "            if ((l <= maximum or closure != \"E\") and isPal(word[:l])):\n",
    "                newT = \"R\"\n",
    "                break\n",
    "            elif ((l <= maximum or closure != \"R\") and isEpal(word[:l])):\n",
    "                newT = \"E\"\n",
    "                break\n",
    "            l = l + 1\n",
    "        if l < length:\n",
    "            prefixes.append([newT, word[l]])\n",
    "            lengths.append(l)\n",
    "        elif l == length:\n",
    "            prefixes.append([newT, None])\n",
    "            lengths.append(l)\n",
    "        l = l + 1\n",
    "        \n",
    "        # Trivial conditions that must \n",
    "        if not prefixes:\n",
    "            verboseprint(1, \"No prefixes of type \" + str(closure))\n",
    "            return([False])\n",
    "        if (lengths[2] > 2):\n",
    "            return([False])\n",
    "        \n",
    "        # Assignment of w_k and w_{k+1}\n",
    "        new_wk = prefixes[-1]\n",
    "        wk = prefixes[-2]\n",
    "        # Finding which element of the list of prefixes we need\n",
    "        goodlpps = [new_wk[0], wk[1] if new_wk[0] == wk[0]\n",
    "                    else str((int(wk[1]) + 1) % 2)]\n",
    "        verboseprint(1, \"{0} {1}\".format(goodlpps,\n",
    "                                         goodlpps in prefixes[:-2]))\n",
    "        # Finding the good prefix in prefixes\n",
    "        if (goodlpps in prefixes[:-2]):\n",
    "            llps = lengths[rindex(prefixes[:-2], goodlpps)]\n",
    "            if 2 * lengths[-2] - llps != lengths[-1]:\n",
    "                iszps = False\n",
    "        # Other cases that can happen\n",
    "        elif (new_wk[0] == \"R\") and (2 * lengths[-2] + 1 == lengths[-1]):\n",
    "            pass\n",
    "        elif (new_wk[0] == \"E\") and (2 * lengths[-2] + 2 == lengths[-1]):\n",
    "            pass\n",
    "        else:\n",
    "            iszps = False\n",
    "\n",
    "    # Trivial condition\n",
    "    if ((lengths[-1]+1) * 2 < length):\n",
    "        return([False])\n",
    "\n",
    "    # Adding the new symbol to \\Delta and \\Theta\n",
    "    newdelta = word[0]\n",
    "    newtheta = \"\"\n",
    "    llist = list(zip(*prefixes))\n",
    "    newtheta = newtheta + ''.join(llist[0][2:])\n",
    "    newdelta = newdelta + ''.join(llist[1][2:-1])\n",
    "    return([iszps, newdelta, newtheta])"
   ]
  },
  {
   "cell_type": "code",
   "execution_count": 13,
   "metadata": {
    "collapsed": true
   },
   "outputs": [],
   "source": [
    "def timing(f):\n",
    "    \"\"\"A decorator function timing a functions.\"\"\"\n",
    "    def wrap(*args):\n",
    "        time1 = time.time()\n",
    "        ret = f(*args)\n",
    "        time2 = time.time()\n",
    "        print('%s function took %0.3f ms' % (f.__name__,\n",
    "                                             (time2 - time1) * 1000.0))\n",
    "        return(ret)\n",
    "    return wrap"
   ]
  },
  {
   "cell_type": "markdown",
   "metadata": {},
   "source": [
    "## Normalized form and directive bi-sequence"
   ]
  },
  {
   "cell_type": "code",
   "execution_count": 14,
   "metadata": {
    "collapsed": true
   },
   "outputs": [],
   "source": [
    "bad_prefixes = [\"(0R)*0E\", \"(1R)*1E\", \"(0R)+1E1E\", \"(1R)+0E0E\"]\n",
    "bad_factors = [\"1R0E1E\", \"1R1E0E\", \"0R0E1E\", \"0R1E0E\", \"1E0R1R\",\n",
    "               \"1E1R0R\", \"0E0R1R\", \"0E1R0R\"]"
   ]
  },
  {
   "cell_type": "code",
   "execution_count": 15,
   "metadata": {
    "collapsed": true
   },
   "outputs": [],
   "source": [
    "def makeBiseq(delta, theta):\n",
    "    \"\"\"Makes one sequence from the bi-sequence delta andm theta.\"\"\"\n",
    "    if len(delta) != len(theta):\n",
    "        print(\"lengths of delta and theta are not equal.\")\n",
    "        return\n",
    "    s = \"\"\n",
    "    for i in range(len(delta)):\n",
    "        s = s + delta[i] + theta[i]\n",
    "    return s\n",
    "\n",
    "\n",
    "def parseBiseq(biseq):\n",
    "    \"\"\"Makes the bi-sequence delta and theta from one sequence.\"\"\"\n",
    "    delta = \"\"\n",
    "    theta = \"\"\n",
    "    for i in range(len(biseq)):\n",
    "        if i % 2 == 0:\n",
    "            delta = delta + biseq[i]\n",
    "        else:\n",
    "            theta = theta + biseq[i]\n",
    "    return [delta, theta]"
   ]
  },
  {
   "cell_type": "code",
   "execution_count": 16,
   "metadata": {
    "collapsed": true
   },
   "outputs": [],
   "source": [
    "def repare_ii(match, a):\n",
    "    \"\"\"Replaces the prefix (R^{i-1}E, a^i) by (R^iE, a^ia*).\"\"\"\n",
    "    a_bar = [\"1\", \"0\"]\n",
    "    length = match.end()\n",
    "    s = match.string\n",
    "    s = s[length:]\n",
    "    s = a_bar[int(a)] + \"E\" + s\n",
    "    s = (a + \"R\") * int(length / 2) + s\n",
    "    return s\n",
    "\n",
    "\n",
    "def repare_iii(match, a):\n",
    "    \"\"\"Replaces the prefix (R^{i}EE, a^ia*a*) by (R^iERE, a^ia*a*a).\"\"\"\n",
    "    a_bar = [\"1\", \"0\"]\n",
    "    length = match.end()\n",
    "    s = match.string\n",
    "    s = s[length:]\n",
    "    s = a_bar[int(a)] + \"E\" + a_bar[int(a)] + \"R\" + a + \"E\" + s\n",
    "    s = (a + \"R\") * int((length - 4) / 2) + s\n",
    "    return s\n",
    "\n",
    "\n",
    "def rep_0(match):\n",
    "    return repare_ii(match, \"0\")\n",
    "\n",
    "\n",
    "def rep_1(match):\n",
    "    return repare_ii(match, \"1\")\n",
    "\n",
    "\n",
    "def rep_2(match):\n",
    "    return repare_iii(match, \"0\")\n",
    "\n",
    "\n",
    "def rep_3(match):\n",
    "    return repare_iii(match, \"1\")\n",
    "\n",
    "norm_replace_functions = [rep_0, rep_1, rep_2, rep_3]"
   ]
  },
  {
   "cell_type": "code",
   "execution_count": 30,
   "metadata": {
    "collapsed": true
   },
   "outputs": [],
   "source": [
    "def normalize(delta, theta):\n",
    "    \"\"\"Returns the normalized directive bi-sequence giving the same GPS word\n",
    "    as (delta, theta)\"\"\"\n",
    "    biseq = makeBiseq(delta, theta)\n",
    "    # Replacing forbidden prefixes\n",
    "    if biseq.startswith(\"0R1R\"):\n",
    "        biseq = biseq.replace(\"0R1R\", \"0R1E0R\", 1)\n",
    "    if biseq.startswith(\"1R0R\"):\n",
    "        biseq = biseq.replace(\"1R0R\", \"1R0E1R\", 1)\n",
    "    # Finding other forbidden prefixes\n",
    "    for i in range(4):\n",
    "        matched = re.match(bad_prefixes[i], biseq)\n",
    "        if matched != None:\n",
    "            biseq = norm_replace_functions[i](matched)\n",
    "\n",
    "    i = 0\n",
    "    # Replacing the factors (abb*, tt*t*) by (abb*b, tt*tt*) \n",
    "    while (i < len(biseq) - 5):\n",
    "        j = 0\n",
    "        while (j < 8) and (biseq[i:i + 6] != bad_factors[j]):\n",
    "            j = j + 1\n",
    "        if (j == 8):\n",
    "            i = i + 1\n",
    "        else:\n",
    "            bad = bad_factors[j]\n",
    "            biseq = biseq.replace(bad, bad[0:5] + bad[1] + bad[2:4], 1)\n",
    "            i = max(0, i + 2)\n",
    "    return parseBiseq(biseq)"
   ]
  },
  {
   "cell_type": "code",
   "execution_count": 18,
   "metadata": {
    "collapsed": false
   },
   "outputs": [],
   "source": [
    "def isNormalized(delta, theta):\n",
    "    \"\"\"Checks directive bi-sequence is normalized.\"\"\"\n",
    "    biseq = makeBiseq(delta, theta)\n",
    "    if biseq.startswith(\"0R1R\") or biseq.startswith(\"1R0R\"):\n",
    "        verboseprint(2, \"contains the factor (aa*, RR)\")\n",
    "        return False\n",
    "    elif (re.match(bad_prefixes[0], biseq) != None) or (re.match(bad_prefixes[1], biseq) != None):\n",
    "        verboseprint(2, \"contains the factor (a^i, R^iE)\")\n",
    "        return False\n",
    "    elif (re.match(bad_prefixes[2], biseq) != None) or (re.match(bad_prefixes[3], biseq) != None):\n",
    "        verboseprint(2, \"contains the factor (a^ia*a*, R^iEE)\")\n",
    "        return False\n",
    "    elif any(x in biseq for x in bad_factors):\n",
    "        verboseprint(2, \"contains the factor (abb*, tt*t*)\")\n",
    "        return False\n",
    "    else:\n",
    "        return True"
   ]
  },
  {
   "cell_type": "code",
   "execution_count": 19,
   "metadata": {
    "collapsed": true
   },
   "outputs": [],
   "source": [
    "def rreplace(s, old, new, occurrence):\n",
    "    \"\"\"Replaces the last occurence of a factor in a string by a new one.\"\"\"\n",
    "    li = s.rsplit(old, occurrence)\n",
    "    return new.join(li)"
   ]
  },
  {
   "cell_type": "code",
   "execution_count": 29,
   "metadata": {
    "collapsed": true
   },
   "outputs": [],
   "source": [
    "def maximizeRinBiseq(delta, theta):\n",
    "    \"\"\"Maximizes the occurrences of the antimorphism R in a directive \n",
    "    bi-sequence (doing \"backwards\" normalization when possible)\"\"\"\n",
    "    delta, theta = normalize(delta, theta)\n",
    "    biseq = makeBiseq(delta, theta)\n",
    "    badfact = [\"0E0R1E0R\", \"0E1R0E1R\", \"1E0R1E0R\", \"1E1R0E1R\"]\n",
    "    replacement = [\"0E0R1R\", \"0E1R0R\", \"1E0R1R\", \"1E1R0R\"]\n",
    "    l = len(biseq)\n",
    "    # Finding factors (abb*b, ERER) and replacing by (abb*, ERR)\n",
    "    if l >= 8:\n",
    "        i = l - 8\n",
    "        while (i >= 0):\n",
    "            j = 0\n",
    "            substring = biseq[i:i + 8]\n",
    "            while (j < 4) and (substring != badfact[j]):\n",
    "                j = j + 1\n",
    "            if (j == 4):\n",
    "                i = i - 1\n",
    "            else:\n",
    "                bad = badfact[j]\n",
    "                biseq = rreplace(biseq, substring, replacement[j], 1)\n",
    "                i = i - 2\n",
    "    # Replacing prefixes\n",
    "    if biseq.startswith(\"0R1E0R\"):\n",
    "        biseq = biseq.replace(\"0R1E0R\", \"0R1R\", 1)\n",
    "    elif biseq.startswith(\"1R0E1R\"):\n",
    "        biseq = biseq.replace(\"1R0E1R\", \"1R0R\", 1)\n",
    "    return parseBiseq(biseq)"
   ]
  },
  {
   "cell_type": "markdown",
   "metadata": {},
   "source": [
    "## Testování"
   ]
  },
  {
   "cell_type": "code",
   "execution_count": 8,
   "metadata": {
    "collapsed": true
   },
   "outputs": [],
   "source": [
    "def _testGPW(deltas, thetas, steps, seed = \"\", normalized = False, \n",
    "                      closure = \"RE\", max_no_matters_closure_type = 0, additional_operation = \"\"):\n",
    "    \"\"\"Funkce, která všechny delty a thety otestuje, uděla prefixy, (případně další operaci) a pak vyzkouší,\n",
    "    jestli získané slovo může být z zobec. pal. uz.\"\"\"\n",
    "    \n",
    "    number_of_true = 0\n",
    "    printed = False\n",
    "    for delta in deltas:\n",
    "        for theta in thetas:\n",
    "            if(normalized == False or isNormalized(delta, theta)):\n",
    "                word = makeWord(delta, theta, steps, seed)\n",
    "                testedword = word\n",
    "                if additional_operation == \"S\":\n",
    "                    testedword = makeS(word)\n",
    "                result = isZps(testedword, closure, max_no_matters_closure_type)\n",
    "                if result[0]==True:\n",
    "                    #print(\"Slovo u:\" + word)\n",
    "                    #print(additional_operation + \"(u):\" + testedword)\n",
    "                    print(\"delta = {0}, theta = {1} : {2} \".format(delta, theta, result))\n",
    "                    number_of_true += 1\n",
    "    print(\"počet biposloupností:\" + str(number_of_true))"
   ]
  },
  {
   "cell_type": "code",
   "execution_count": 9,
   "metadata": {
    "collapsed": false
   },
   "outputs": [
    {
     "ename": "NameError",
     "evalue": "name 'timing' is not defined",
     "output_type": "error",
     "traceback": [
      "\u001b[1;31m---------------------------------------------------------------------------\u001b[0m",
      "\u001b[1;31mNameError\u001b[0m                                 Traceback (most recent call last)",
      "\u001b[1;32m<ipython-input-9-800286d41e36>\u001b[0m in \u001b[0;36m<module>\u001b[1;34m()\u001b[0m\n\u001b[1;32m----> 1\u001b[1;33m \u001b[1;33m@\u001b[0m\u001b[0mtiming\u001b[0m\u001b[1;33m\u001b[0m\u001b[0m\n\u001b[0m\u001b[0;32m      2\u001b[0m def testGPW_S_on_GPW(deltas, thetas, steps, seed = \"\", normalized = False, \n\u001b[0;32m      3\u001b[0m                       closure = \"RE\", max_no_matters_closure_type = 0):\n\u001b[0;32m      4\u001b[0m     \"\"\"Funkce, která všechny delty a thety otestuje, uděla prefixy, operaci S a pak vyzkouší,\n\u001b[0;32m      5\u001b[0m     jestli získané slovo může být z zobec. pal. uz.\"\"\"\n",
      "\u001b[1;31mNameError\u001b[0m: name 'timing' is not defined"
     ]
    }
   ],
   "source": [
    "@timing\n",
    "def testGPW_S_on_GPW(deltas, thetas, steps, seed = \"\", normalized = False, \n",
    "                      closure = \"RE\", max_no_matters_closure_type = 0):\n",
    "    \"\"\"Funkce, která všechny delty a thety otestuje, uděla prefixy, operaci S a pak vyzkouší,\n",
    "    jestli získané slovo může být z zobec. pal. uz.\"\"\"\n",
    "    \n",
    "    _testGPW(deltas, thetas, steps, seed, normalized, closure, max_no_matters_closure_type, \"S\")"
   ]
  },
  {
   "cell_type": "code",
   "execution_count": 10,
   "metadata": {
    "collapsed": false
   },
   "outputs": [
    {
     "ename": "NameError",
     "evalue": "name 'timing' is not defined",
     "output_type": "error",
     "traceback": [
      "\u001b[1;31m---------------------------------------------------------------------------\u001b[0m",
      "\u001b[1;31mNameError\u001b[0m                                 Traceback (most recent call last)",
      "\u001b[1;32m<ipython-input-10-3b1a416f9636>\u001b[0m in \u001b[0;36m<module>\u001b[1;34m()\u001b[0m\n\u001b[1;32m----> 1\u001b[1;33m \u001b[1;33m@\u001b[0m\u001b[0mtiming\u001b[0m\u001b[1;33m\u001b[0m\u001b[0m\n\u001b[0m\u001b[0;32m      2\u001b[0m def testGPW(deltas, thetas, steps, seed = \"\", normalized = False, \n\u001b[0;32m      3\u001b[0m                       closure = \"RE\", max_no_matters_closure_type = 0):\n\u001b[0;32m      4\u001b[0m     \"\"\"Funkce, která všechny delty a thety otestuje, uděla prefixy a pak vyzkouší,\n\u001b[0;32m      5\u001b[0m     jestli získané slovo může být z zobec. pal. uz.\"\"\"\n",
      "\u001b[1;31mNameError\u001b[0m: name 'timing' is not defined"
     ]
    }
   ],
   "source": [
    "@timing\n",
    "def testGPW(deltas, thetas, steps, seed = \"\", normalized = False, \n",
    "                      closure = \"RE\", max_no_matters_closure_type = 0):\n",
    "    \"\"\"Funkce, která všechny delty a thety otestuje, uděla prefixy a pak vyzkouší,\n",
    "    jestli získané slovo může být z zobec. pal. uz.\"\"\"\n",
    "    \n",
    "    _testGPW(deltas, thetas, steps, seed, normalized, closure, max_no_matters_closure_type)"
   ]
  },
  {
   "cell_type": "code",
   "execution_count": null,
   "metadata": {
    "collapsed": true
   },
   "outputs": [],
   "source": []
  },
  {
   "cell_type": "code",
   "execution_count": null,
   "metadata": {
    "collapsed": true
   },
   "outputs": [],
   "source": []
  },
  {
   "cell_type": "code",
   "execution_count": null,
   "metadata": {
    "collapsed": true
   },
   "outputs": [],
   "source": []
  }
 ],
 "metadata": {
  "celltoolbar": "Raw Cell Format",
  "kernelspec": {
   "display_name": "Python 3",
   "language": "python",
   "name": "python3"
  },
  "language_info": {
   "codemirror_mode": {
    "name": "ipython",
    "version": 3
   },
   "file_extension": ".py",
   "mimetype": "text/x-python",
   "name": "python",
   "nbconvert_exporter": "python",
   "pygments_lexer": "ipython3",
   "version": "3.5.1"
  }
 },
 "nbformat": 4,
 "nbformat_minor": 0
}
