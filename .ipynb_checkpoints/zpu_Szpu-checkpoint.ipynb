{
 "cells": [
  {
   "cell_type": "code",
   "execution_count": 2,
   "metadata": {
    "collapsed": false
   },
   "outputs": [],
   "source": [
    "import itertools\n",
    "import zpu as zpu"
   ]
  },
  {
   "cell_type": "markdown",
   "metadata": {},
   "source": [
    "##Příklad"
   ]
  },
  {
   "cell_type": "code",
   "execution_count": 3,
   "metadata": {
    "collapsed": false
   },
   "outputs": [],
   "source": [
    "n=500\n",
    "delta1 = \"110011001\"\n",
    "theta1 = \"RRRRRRRRR\" # dávat E\n",
    "word1 = zpu.makeWord(delta1, theta1, 8, \"00100100\")"
   ]
  },
  {
   "cell_type": "code",
   "execution_count": 4,
   "metadata": {
    "collapsed": false
   },
   "outputs": [
    {
     "name": "stdout",
     "output_type": "stream",
     "text": [
      "001001001001000100100100100010010010010010001001001001000100100100100100010010010010001001001001000100100100100100010010010010001001001001001000100100100100010010010010001001001001001000100100100100010010010010010001001001001000100100100100\n",
      "01101101101100110110110110011011011011011001101101101100110110110110110011011011011001101101101100110110110110110011011011011001101101101101100110110110110011011011011001101101101101100110110110110011011011011011001101101101100110110110110\n",
      "[True, '011111001100', 'RERRRRRRRRRR']\n"
     ]
    }
   ],
   "source": [
    "Sword1= zpu.makeS(word1)\n",
    "print(word1)\n",
    "print(Sword1)\n",
    "print(zpu.isZps(Sword1))"
   ]
  },
  {
   "cell_type": "markdown",
   "metadata": {},
   "source": [
    "##Analýza všech $\\delta$ a $\\theta$"
   ]
  },
  {
   "cell_type": "code",
   "execution_count": 5,
   "metadata": {
    "collapsed": false
   },
   "outputs": [],
   "source": [
    "# Počet kroků\n",
    "steps = 4\n",
    "# Všechny kombinace pro delty a thety\n",
    "thetas = [''.join(i) for i in itertools.product('ER', repeat=steps)]\n",
    "deltas = [''.join(i) for i in itertools.product('01', repeat=steps)]\n",
    "pop = thetas.pop() # vyloučíme RRR...R, který je poslední"
   ]
  },
  {
   "cell_type": "markdown",
   "metadata": {},
   "source": [
    "###Výsledky:"
   ]
  },
  {
   "cell_type": "code",
   "execution_count": 7,
   "metadata": {
    "collapsed": false
   },
   "outputs": [
    {
     "name": "stdout",
     "output_type": "stream",
     "text": [
      "delta = 0000, theta = EEEE : [True, '1111111', 'RRRRRRR'] \n",
      "delta = 0000, theta = EEER : [True, '111111', 'RRRRRR'] \n",
      "delta = 0000, theta = EERR : [True, '11110', 'RRRRR'] \n",
      "delta = 0000, theta = ERRR : [True, '1100', 'RRRR'] \n",
      "delta = 0000, theta = REEE : [True, '01010101010', 'RERERERERER'] \n",
      "delta = 0000, theta = REER : [True, '010101010', 'RERERERER'] \n",
      "delta = 0000, theta = RERR : [True, '010100', 'RERERR'] \n",
      "delta = 0000, theta = RREE : [True, '00111', 'RRRRR'] \n",
      "delta = 0000, theta = RRER : [True, '0011', 'RRRR'] \n",
      "delta = 0000, theta = RRRE : [True, '0001', 'RRRR'] \n",
      "\n",
      "delta = 0001, theta = EEER : [True, '111110', 'RRRRRR'] \n",
      "delta = 0001, theta = EERE : [True, '11111', 'RRRRR'] \n",
      "delta = 0001, theta = EERR : [True, '111111', 'RRRRRR'] \n",
      "delta = 0001, theta = ERRE : [True, '1101', 'RRRR'] \n",
      "delta = 0001, theta = REER : [True, '01010100', 'RERERERR'] \n",
      "delta = 0001, theta = RERE : [True, '0101010', 'RERERER'] \n",
      "delta = 0001, theta = RERR : [True, '010101010', 'RERERERER'] \n",
      "delta = 0001, theta = RREE : [True, '00100', 'RRRRR'] \n",
      "delta = 0001, theta = RRER : [True, '0010', 'RRRR'] \n",
      "delta = 0001, theta = RRRE : [True, '001', 'RRR'] \n",
      "\n",
      "delta = 0010, theta = EERE : [True, '11100', 'RRRRR'] \n",
      "delta = 0010, theta = EERR : [True, '111000', 'RRRRRR'] \n",
      "delta = 0010, theta = EREE : [True, '11111', 'RRRRR'] \n",
      "delta = 0010, theta = ERER : [True, '1111', 'RRRR'] \n",
      "delta = 0010, theta = ERRR : [True, '11110', 'RRRRR'] \n",
      "delta = 0010, theta = REER : [True, '010001', 'RERRRR'] \n",
      "delta = 0010, theta = RERE : [True, '01000', 'RERRR'] \n",
      "delta = 0010, theta = RERR : [True, '010000', 'RERRRR'] \n",
      "delta = 0010, theta = RREE : [True, '0101010', 'RERERER'] \n",
      "delta = 0010, theta = RRER : [True, '01010', 'RERER'] \n",
      "delta = 0010, theta = RRRE : [True, '01100', 'RERER'] \n",
      "\n",
      "delta = 0011, theta = EERR : [True, '11101', 'RRRRR'] \n",
      "delta = 0011, theta = ERER : [True, '1110', 'RRRR'] \n",
      "delta = 0011, theta = ERRE : [True, '11111', 'RRRRR'] \n",
      "delta = 0011, theta = ERRR : [True, '111111', 'RRRRRR'] \n",
      "delta = 0011, theta = REEE : [True, '0100000', 'RERRRRR'] \n",
      "delta = 0011, theta = REER : [True, '010000', 'RERRRR'] \n",
      "delta = 0011, theta = RERR : [True, '01001', 'RERRR'] \n",
      "delta = 0011, theta = RREE : [True, '01000', 'RERRR'] \n",
      "delta = 0011, theta = RRER : [True, '0100', 'RERR'] \n",
      "\n",
      "delta = 0100, theta = EERR : [True, '1010110', 'RERERRR'] \n",
      "delta = 0100, theta = ERER : [True, '101011', 'RERERR'] \n",
      "delta = 0100, theta = ERRE : [True, '101010101', 'RERERERER'] \n",
      "delta = 0100, theta = ERRR : [True, '10101010101', 'RERERERERER'] \n",
      "delta = 0100, theta = REEE : [True, '11111', 'RRRRR'] \n",
      "delta = 0100, theta = REER : [True, '1111', 'RRRR'] \n",
      "delta = 0100, theta = RERR : [True, '110', 'RRR'] \n",
      "\n",
      "delta = 0101, theta = EERE : [True, '1010111', 'RERERRR'] \n",
      "delta = 0101, theta = EERR : [True, '10101111', 'RERERRRR'] \n",
      "delta = 0101, theta = EREE : [True, '101010101', 'RERERERER'] \n",
      "delta = 0101, theta = ERER : [True, '1010101', 'RERERER'] \n",
      "delta = 0101, theta = ERRR : [True, '10101011', 'RERERERR'] \n",
      "delta = 0101, theta = REER : [True, '1110', 'RRRR'] \n",
      "delta = 0101, theta = RERE : [True, '111', 'RRR'] \n",
      "delta = 0101, theta = RERR : [True, '1111', 'RRRR'] \n",
      "delta = 0101, theta = RRRE : [True, '1101', 'RRRR'] \n",
      "\n",
      "delta = 0110, theta = EEER : [True, '1010101011', 'RERERERERR'] \n",
      "delta = 0110, theta = EERE : [True, '101010101', 'RERERERER'] \n",
      "delta = 0110, theta = EERR : [True, '10101010101', 'RERERERERER'] \n",
      "delta = 0110, theta = ERRE : [True, '10110', 'RERRR'] \n",
      "delta = 0110, theta = REER : [True, '101011', 'RERERR'] \n",
      "delta = 0110, theta = RERE : [True, '10101', 'RERER'] \n",
      "delta = 0110, theta = RERR : [True, '1010101', 'RERERER'] \n",
      "delta = 0110, theta = RREE : [True, '11111', 'RRRRR'] \n",
      "delta = 0110, theta = RRER : [True, '1111', 'RRRR'] \n",
      "\n",
      "delta = 0111, theta = EEEE : [True, '1010101010101', 'RERERERERERER'] \n",
      "delta = 0111, theta = EEER : [True, '10101010101', 'RERERERERER'] \n",
      "delta = 0111, theta = EERR : [True, '10101011', 'RERERERR'] \n",
      "delta = 0111, theta = ERRR : [True, '10111', 'RERRR'] \n",
      "delta = 0111, theta = REEE : [True, '101010101', 'RERERERER'] \n",
      "delta = 0111, theta = REER : [True, '1010101', 'RERERER'] \n",
      "delta = 0111, theta = RERR : [True, '1011', 'RERR'] \n",
      "delta = 0111, theta = RRER : [True, '1110', 'RRRR'] \n",
      "delta = 0111, theta = RRRE : [True, '11111', 'RRRRR'] \n",
      "\n",
      "delta = 1000, theta = EEEE : [True, '1010101010101', 'RERERERERERER'] \n",
      "delta = 1000, theta = EEER : [True, '10101010101', 'RERERERERER'] \n",
      "delta = 1000, theta = EERR : [True, '10101011', 'RERERERR'] \n",
      "delta = 1000, theta = ERRR : [True, '10111', 'RERRR'] \n",
      "delta = 1000, theta = REEE : [True, '101010101', 'RERERERER'] \n",
      "delta = 1000, theta = REER : [True, '1010101', 'RERERER'] \n",
      "delta = 1000, theta = RERR : [True, '1011', 'RERR'] \n",
      "delta = 1000, theta = RRER : [True, '1110', 'RRRR'] \n",
      "delta = 1000, theta = RRRE : [True, '11111', 'RRRRR'] \n",
      "\n",
      "delta = 1001, theta = EEER : [True, '1010101011', 'RERERERERR'] \n",
      "delta = 1001, theta = EERE : [True, '101010101', 'RERERERER'] \n",
      "delta = 1001, theta = EERR : [True, '10101010101', 'RERERERERER'] \n",
      "delta = 1001, theta = ERRE : [True, '10110', 'RERRR'] \n",
      "delta = 1001, theta = REER : [True, '101011', 'RERERR'] \n",
      "delta = 1001, theta = RERE : [True, '10101', 'RERER'] \n",
      "delta = 1001, theta = RERR : [True, '1010101', 'RERERER'] \n",
      "delta = 1001, theta = RREE : [True, '11111', 'RRRRR'] \n",
      "delta = 1001, theta = RRER : [True, '1111', 'RRRR'] \n",
      "\n",
      "delta = 1010, theta = EERE : [True, '1010111', 'RERERRR'] \n",
      "delta = 1010, theta = EERR : [True, '10101111', 'RERERRRR'] \n",
      "delta = 1010, theta = EREE : [True, '101010101', 'RERERERER'] \n",
      "delta = 1010, theta = ERER : [True, '1010101', 'RERERER'] \n",
      "delta = 1010, theta = ERRR : [True, '10101011', 'RERERERR'] \n",
      "delta = 1010, theta = REER : [True, '1110', 'RRRR'] \n",
      "delta = 1010, theta = RERE : [True, '111', 'RRR'] \n",
      "delta = 1010, theta = RERR : [True, '1111', 'RRRR'] \n",
      "delta = 1010, theta = RRRE : [True, '1101', 'RRRR'] \n",
      "\n",
      "delta = 1011, theta = EERR : [True, '1010110', 'RERERRR'] \n",
      "delta = 1011, theta = ERER : [True, '101011', 'RERERR'] \n",
      "delta = 1011, theta = ERRE : [True, '101010101', 'RERERERER'] \n",
      "delta = 1011, theta = ERRR : [True, '10101010101', 'RERERERERER'] \n",
      "delta = 1011, theta = REEE : [True, '11111', 'RRRRR'] \n",
      "delta = 1011, theta = REER : [True, '1111', 'RRRR'] \n",
      "delta = 1011, theta = RERR : [True, '110', 'RRR'] \n",
      "\n",
      "delta = 1100, theta = EERR : [True, '11101', 'RRRRR'] \n",
      "delta = 1100, theta = ERER : [True, '1110', 'RRRR'] \n",
      "delta = 1100, theta = ERRE : [True, '11111', 'RRRRR'] \n",
      "delta = 1100, theta = ERRR : [True, '111111', 'RRRRRR'] \n",
      "delta = 1100, theta = REEE : [True, '0100000', 'RERRRRR'] \n",
      "delta = 1100, theta = REER : [True, '010000', 'RERRRR'] \n",
      "delta = 1100, theta = RERR : [True, '01001', 'RERRR'] \n",
      "delta = 1100, theta = RREE : [True, '01000', 'RERRR'] \n",
      "delta = 1100, theta = RRER : [True, '0100', 'RERR'] \n",
      "\n",
      "delta = 1101, theta = EERE : [True, '11100', 'RRRRR'] \n",
      "delta = 1101, theta = EERR : [True, '111000', 'RRRRRR'] \n",
      "delta = 1101, theta = EREE : [True, '11111', 'RRRRR'] \n",
      "delta = 1101, theta = ERER : [True, '1111', 'RRRR'] \n",
      "delta = 1101, theta = ERRR : [True, '11110', 'RRRRR'] \n",
      "delta = 1101, theta = REER : [True, '010001', 'RERRRR'] \n",
      "delta = 1101, theta = RERE : [True, '01000', 'RERRR'] \n",
      "delta = 1101, theta = RERR : [True, '010000', 'RERRRR'] \n",
      "delta = 1101, theta = RREE : [True, '0101010', 'RERERER'] \n",
      "delta = 1101, theta = RRER : [True, '01010', 'RERER'] \n",
      "delta = 1101, theta = RRRE : [True, '01100', 'RERER'] \n",
      "\n",
      "delta = 1110, theta = EEER : [True, '111110', 'RRRRRR'] \n",
      "delta = 1110, theta = EERE : [True, '11111', 'RRRRR'] \n",
      "delta = 1110, theta = EERR : [True, '111111', 'RRRRRR'] \n",
      "delta = 1110, theta = ERRE : [True, '1101', 'RRRR'] \n",
      "delta = 1110, theta = REER : [True, '01010100', 'RERERERR'] \n",
      "delta = 1110, theta = RERE : [True, '0101010', 'RERERER'] \n",
      "delta = 1110, theta = RERR : [True, '010101010', 'RERERERER'] \n",
      "delta = 1110, theta = RREE : [True, '00100', 'RRRRR'] \n",
      "delta = 1110, theta = RRER : [True, '0010', 'RRRR'] \n",
      "delta = 1110, theta = RRRE : [True, '001', 'RRR'] \n",
      "\n",
      "delta = 1111, theta = EEEE : [True, '1111111', 'RRRRRRR'] \n",
      "delta = 1111, theta = EEER : [True, '111111', 'RRRRRR'] \n",
      "delta = 1111, theta = EERR : [True, '11110', 'RRRRR'] \n",
      "delta = 1111, theta = ERRR : [True, '1100', 'RRRR'] \n",
      "delta = 1111, theta = REEE : [True, '01010101010', 'RERERERERER'] \n",
      "delta = 1111, theta = REER : [True, '010101010', 'RERERERER'] \n",
      "delta = 1111, theta = RERR : [True, '010100', 'RERERR'] \n",
      "delta = 1111, theta = RREE : [True, '00111', 'RRRRR'] \n",
      "delta = 1111, theta = RRER : [True, '0011', 'RRRR'] \n",
      "delta = 1111, theta = RRRE : [True, '0001', 'RRRR'] \n",
      "\n",
      "testPrefixes function took 58.921 ms\n"
     ]
    }
   ],
   "source": [
    "# Funkce, která všechny delty a thety otestuje, uděla prefixy, operaci S a pak vyzkouší,\n",
    "# jestli získané slovo může být z zobec. pal. uz.\n",
    "zpu.testPrefixes(deltas, thetas, steps, \"\")"
   ]
  },
  {
   "cell_type": "code",
   "execution_count": null,
   "metadata": {
    "collapsed": true
   },
   "outputs": [],
   "source": []
  }
 ],
 "metadata": {
  "kernelspec": {
   "display_name": "Python 3",
   "language": "python",
   "name": "python3"
  },
  "language_info": {
   "codemirror_mode": {
    "name": "ipython",
    "version": 3
   },
   "file_extension": ".py",
   "mimetype": "text/x-python",
   "name": "python",
   "nbconvert_exporter": "python",
   "pygments_lexer": "ipython3",
   "version": "3.5.0"
  }
 },
 "nbformat": 4,
 "nbformat_minor": 0
}
