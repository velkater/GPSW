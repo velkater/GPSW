{
 "cells": [
  {
   "cell_type": "code",
   "execution_count": 1,
   "metadata": {
    "collapsed": true
   },
   "outputs": [],
   "source": [
    "import itertools"
   ]
  },
  {
   "cell_type": "code",
   "execution_count": 7,
   "metadata": {
    "collapsed": true
   },
   "outputs": [],
   "source": [
    "T = [\"<>\", \"Create :: Start :: Die :: Restart\", \n",
    "     \"Create :: Start :: Die :: Died :: Start\",\n",
    "     \"Create :: Start :: Started :: Exit :: Start\",\n",
    "     \"Create :: Start :: Started :: Stop\",\n",
    "     \"Create :: Start :: Stop :: Stopped\"]"
   ]
  },
  {
   "cell_type": "code",
   "execution_count": 8,
   "metadata": {
    "collapsed": true
   },
   "outputs": [],
   "source": [
    "Z= [\"Create\",\n",
    "    \"Start :: Create\",\n",
    "    \"Started :: Create\",\n",
    "    \"Stopped :: Create\",\n",
    "    \"Restart :: Create\",\n",
    "    \"Exit :: Create\",\n",
    "    \"Die :: Create\",\n",
    "    \"Died :: Create\"]"
   ]
  },
  {
   "cell_type": "code",
   "execution_count": 9,
   "metadata": {
    "collapsed": false
   },
   "outputs": [
    {
     "name": "stdout",
     "output_type": "stream",
     "text": [
      "<>::Create\n",
      "<>::Start :: Create\n",
      "<>::Started :: Create\n",
      "<>::Stopped :: Create\n",
      "<>::Restart :: Create\n",
      "<>::Exit :: Create\n",
      "<>::Die :: Create\n",
      "<>::Died :: Create\n",
      "Create :: Start :: Die :: Restart::Create\n",
      "Create :: Start :: Die :: Restart::Start :: Create\n",
      "Create :: Start :: Die :: Restart::Started :: Create\n",
      "Create :: Start :: Die :: Restart::Stopped :: Create\n",
      "Create :: Start :: Die :: Restart::Restart :: Create\n",
      "Create :: Start :: Die :: Restart::Exit :: Create\n",
      "Create :: Start :: Die :: Restart::Die :: Create\n",
      "Create :: Start :: Die :: Restart::Died :: Create\n",
      "Create :: Start :: Die :: Died :: Start::Create\n",
      "Create :: Start :: Die :: Died :: Start::Start :: Create\n",
      "Create :: Start :: Die :: Died :: Start::Started :: Create\n",
      "Create :: Start :: Die :: Died :: Start::Stopped :: Create\n",
      "Create :: Start :: Die :: Died :: Start::Restart :: Create\n",
      "Create :: Start :: Die :: Died :: Start::Exit :: Create\n",
      "Create :: Start :: Die :: Died :: Start::Die :: Create\n",
      "Create :: Start :: Die :: Died :: Start::Died :: Create\n",
      "Create :: Start :: Started :: Exit :: Start::Create\n",
      "Create :: Start :: Started :: Exit :: Start::Start :: Create\n",
      "Create :: Start :: Started :: Exit :: Start::Started :: Create\n",
      "Create :: Start :: Started :: Exit :: Start::Stopped :: Create\n",
      "Create :: Start :: Started :: Exit :: Start::Restart :: Create\n",
      "Create :: Start :: Started :: Exit :: Start::Exit :: Create\n",
      "Create :: Start :: Started :: Exit :: Start::Die :: Create\n",
      "Create :: Start :: Started :: Exit :: Start::Died :: Create\n",
      "Create :: Start :: Started :: Stop::Create\n",
      "Create :: Start :: Started :: Stop::Start :: Create\n",
      "Create :: Start :: Started :: Stop::Started :: Create\n",
      "Create :: Start :: Started :: Stop::Stopped :: Create\n",
      "Create :: Start :: Started :: Stop::Restart :: Create\n",
      "Create :: Start :: Started :: Stop::Exit :: Create\n",
      "Create :: Start :: Started :: Stop::Die :: Create\n",
      "Create :: Start :: Started :: Stop::Died :: Create\n",
      "Create :: Start :: Stop :: Stopped::Create\n",
      "Create :: Start :: Stop :: Stopped::Start :: Create\n",
      "Create :: Start :: Stop :: Stopped::Started :: Create\n",
      "Create :: Start :: Stop :: Stopped::Stopped :: Create\n",
      "Create :: Start :: Stop :: Stopped::Restart :: Create\n",
      "Create :: Start :: Stop :: Stopped::Exit :: Create\n",
      "Create :: Start :: Stop :: Stopped::Die :: Create\n",
      "Create :: Start :: Stop :: Stopped::Died :: Create\n"
     ]
    }
   ],
   "source": [
    "for element in itertools.product(T,Z):\n",
    "    print(element[0]+ \"::\" +element[1])"
   ]
  },
  {
   "cell_type": "code",
   "execution_count": null,
   "metadata": {
    "collapsed": true
   },
   "outputs": [],
   "source": [
    "for element in itertools.product(T,Z):\n",
    "    print(element[0]+ \"::\" +element[1])"
   ]
  }
 ],
 "metadata": {
  "kernelspec": {
   "display_name": "Python 3",
   "language": "python",
   "name": "python3"
  },
  "language_info": {
   "codemirror_mode": {
    "name": "ipython",
    "version": 3
   },
   "file_extension": ".py",
   "mimetype": "text/x-python",
   "name": "python",
   "nbconvert_exporter": "python",
   "pygments_lexer": "ipython3",
   "version": "3.5.0"
  }
 },
 "nbformat": 4,
 "nbformat_minor": 0
}
