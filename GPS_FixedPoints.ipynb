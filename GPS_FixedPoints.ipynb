{
 "cells": [
  {
   "cell_type": "markdown",
   "metadata": {},
   "source": [
    "# GPS words and fixed points of morphisms"
   ]
  },
  {
   "cell_type": "code",
   "execution_count": 23,
   "metadata": {
    "collapsed": false
   },
   "outputs": [],
   "source": [
    "import re\n",
    "import zpu\n",
    "import itertools\n",
    "def writetofile(text):\n",
    "    with open(\"out.txt\", \"a\") as ofile:\n",
    "        ofile.write(str(text) + \"\\n\")"
   ]
  },
  {
   "cell_type": "markdown",
   "metadata": {},
   "source": [
    "## Substitution"
   ]
  },
  {
   "cell_type": "code",
   "execution_count": 19,
   "metadata": {
    "collapsed": true
   },
   "outputs": [],
   "source": [
    "def subs(dic, n):\n",
    "    s = dic[\"0\"]\n",
    "    i = 1\n",
    "    while len(s) < n:\n",
    "        s = s + dic[s[i]]\n",
    "        i = i + 1\n",
    "    return s[:n]"
   ]
  },
  {
   "cell_type": "markdown",
   "metadata": {},
   "source": [
    "## Patterns we want to avoid in the bi-sequence"
   ]
  },
  {
   "cell_type": "code",
   "execution_count": 20,
   "metadata": {
    "collapsed": false
   },
   "outputs": [],
   "source": [
    "cpattern = re.compile(\"^R+$\") # sama R\n",
    "dpattern = re.compile(\"^(01)+$\") # slovo 0101010101\n",
    "epattern = re.compile(\"((0R){20})|((0E){20})|((1R){20})|((1E){20})$\")\n",
    "fpattern = re.compile(\"((((0R)+1E){10})|(((0E)+1R){10})|(((1R)+0E){10})|(((1E)+0R){10}))$\")"
   ]
  },
  {
   "cell_type": "markdown",
   "metadata": {},
   "source": [
    "## Testing functions"
   ]
  },
  {
   "cell_type": "code",
   "execution_count": 21,
   "metadata": {
    "collapsed": true
   },
   "outputs": [],
   "source": [
    "from multiprocessing import Pool\n",
    "l = 300\n",
    "def testword(rule, file = None):\n",
    "    dicti = {\"0\": rule[0], \"1\": rule[1]}\n",
    "    word = subs(dicti, l)\n",
    "    ret = zpu.isZps2(word)\n",
    "    if (ret[0]==True):\n",
    "        bis = [ret[1], ret[2]]\n",
    "        bis_c = zpu.makeBiseq(ret[1], ret[2])\n",
    "        bisR = zpu.maximizeRinBiseq(ret[1], ret[2])\n",
    "        if not (re.match(cpattern, bisR[1])) and \\\n",
    "        not (re.match(dpattern, word))and \\\n",
    "        not (re.search(epattern, bis_c)) and \\\n",
    "        not (re.search(fpattern, bis_c)):\n",
    "            writetofile(str(dicti)+ \" \"+ str(bis)+ \" prefix: \"+word[:40])\n",
    "            return  [True, dicti, bis, word[:40]]\n",
    "        else:\n",
    "            return None\n",
    "    else:\n",
    "        return None\n",
    "def getresults(lphi0, lphi1, file = None):\n",
    "    pool = Pool(processes=4)\n",
    "    results = []\n",
    "    for rep1 in range(1,lphi0):\n",
    "        for rep2 in range(1,lphi1+1):\n",
    "            phi0 = ['0'+ ''.join(i) for i in itertools.product('01', repeat=rep1)]\n",
    "            phi1 = [''.join(j) for j in itertools.product('01', repeat=rep2)]\n",
    "            cart = [ k for k in itertools.product(phi0, phi1)]\n",
    "            r = pool.map_async(testword, cart)\n",
    "            results.append(list(filter(lambda x: x != None, r.get())))\n",
    "    return results"
   ]
  },
  {
   "cell_type": "markdown",
   "metadata": {},
   "source": [
    "## Results"
   ]
  },
  {
   "cell_type": "code",
   "execution_count": 24,
   "metadata": {
    "collapsed": false
   },
   "outputs": [
    {
     "name": "stdout",
     "output_type": "stream",
     "text": [
      "CPU times: user 60 ms, sys: 26.7 ms, total: 86.7 ms\n",
      "Wall time: 2.86 s\n",
      "[True, {'0': '01', '1': '10'}, ['011111111', 'RERERERER'], '0110100110010110100101100110100110010110']\n",
      "[True, {'0': '0110', '1': '1001'}, ['011111111', 'RERERERER'], '0110100110010110100101100110100110010110']\n"
     ]
    }
   ],
   "source": [
    "%time results = getresults(5,5)\n",
    "for result in results:\n",
    "    for words in result:\n",
    "        print(words)"
   ]
  },
  {
   "cell_type": "code",
   "execution_count": null,
   "metadata": {
    "collapsed": true
   },
   "outputs": [],
   "source": []
  }
 ],
 "metadata": {
  "kernelspec": {
   "display_name": "Python 3",
   "language": "python",
   "name": "python3"
  },
  "language_info": {
   "codemirror_mode": {
    "name": "ipython",
    "version": 3
   },
   "file_extension": ".py",
   "mimetype": "text/x-python",
   "name": "python",
   "nbconvert_exporter": "python",
   "pygments_lexer": "ipython3",
   "version": "3.5.1"
  }
 },
 "nbformat": 4,
 "nbformat_minor": 0
}
