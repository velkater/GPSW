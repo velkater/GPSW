{
 "cells": [
  {
   "cell_type": "code",
   "execution_count": 1,
   "metadata": {
    "collapsed": true
   },
   "outputs": [],
   "source": [
    "import re"
   ]
  },
  {
   "cell_type": "code",
   "execution_count": 8,
   "metadata": {
    "collapsed": false
   },
   "outputs": [],
   "source": [
    "# Avoiding only R's in \\Theta\n",
    "cpattern = re.compile(\"^R+$\")\n",
    "# Avoiding the periodic word 0101010101...\n",
    "dpattern = re.compile(\"^(01)+$\")\n",
    "# Avoiding (\\Delta, Theta) = (uaaaaaaaa..., vtttttttttt... ), |u|=|v|\n",
    "epattern = re.compile(\"(((0R){20})|((0E){20})|((1R){20})|((1E){20}))$\")\n",
    "# Avoiding some periodic GPS words\n",
    "fpattern = re.compile(\n",
    "    \"((((0R)+1E){10})|(((0E)+1R){10})|(((1R)+0E){10})|(((1E)+0R){10}))$\")"
   ]
  },
  {
   "cell_type": "code",
   "execution_count": 9,
   "metadata": {
    "collapsed": false
   },
   "outputs": [],
   "source": [
    "re.search(epattern, \"0R0R0R0R0R0R0R0R0R0R0R0R0R0R0R0R0R0R0R0R0\")"
   ]
  },
  {
   "cell_type": "code",
   "execution_count": null,
   "metadata": {
    "collapsed": true
   },
   "outputs": [],
   "source": []
  }
 ],
 "metadata": {
  "kernelspec": {
   "display_name": "Python 3",
   "language": "python",
   "name": "python3"
  },
  "language_info": {
   "codemirror_mode": {
    "name": "ipython",
    "version": 3
   },
   "file_extension": ".py",
   "mimetype": "text/x-python",
   "name": "python",
   "nbconvert_exporter": "python",
   "pygments_lexer": "ipython3",
   "version": "3.5.2"
  }
 },
 "nbformat": 4,
 "nbformat_minor": 2
}
