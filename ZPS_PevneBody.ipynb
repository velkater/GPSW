{
 "cells": [
  {
   "cell_type": "code",
   "execution_count": 2,
   "metadata": {
    "collapsed": false
   },
   "outputs": [],
   "source": [
    "import itertools\n",
    "import zpu as zpu\n",
    "import re\n",
    "import sys\n",
    "import time"
   ]
  },
  {
   "cell_type": "code",
   "execution_count": 3,
   "metadata": {
    "collapsed": true
   },
   "outputs": [],
   "source": [
    "def timing(f):\n",
    "    def wrap(*args):\n",
    "        time1 = time.time()\n",
    "        ret = f(*args)\n",
    "        time2 = time.time()\n",
    "        print('%s function took %0.3f ms' % (f.__name__, (time2-time1)*1000.0))\n",
    "        return(ret)\n",
    "    return wrap"
   ]
  },
  {
   "cell_type": "code",
   "execution_count": 4,
   "metadata": {
    "collapsed": false
   },
   "outputs": [],
   "source": [
    "def subs(dic, n):\n",
    "    s = dic[\"0\"]\n",
    "    i = 1\n",
    "    while len(s) < n:\n",
    "        s = s + dic[s[i]]\n",
    "        i = i + 1\n",
    "    return s[:n]"
   ]
  },
  {
   "cell_type": "code",
   "execution_count": 5,
   "metadata": {
    "collapsed": false
   },
   "outputs": [],
   "source": [
    "cpattern = re.compile(\"^R+$\") # sama R\n",
    "dpattern = re.compile(\"^(01)+$\") # slovo 0101010101\n",
    "epattern = re.compile(\"((0R){20})|((0E){20})|((1R){20})|((1E){20})$\")\n",
    "fpattern = re.compile(\"((((0R)+1E){10})|(((0E)+1R){10})|(((1R)+0E){10})|(((1E)+0R){10}))$\")"
   ]
  },
  {
   "cell_type": "code",
   "execution_count": 6,
   "metadata": {
    "collapsed": false
   },
   "outputs": [],
   "source": [
    "import logging\n",
    "\n",
    "log = logging.getLogger(__name__)\n",
    "log.setLevel(logging.DEBUG)"
   ]
  },
  {
   "cell_type": "code",
   "execution_count": 7,
   "metadata": {
    "collapsed": false
   },
   "outputs": [
    {
     "name": "stderr",
     "output_type": "stream",
     "text": [
      "DEBUG:__main__:asdsa\n",
      "INFO:__main__:asdsa\n"
     ]
    }
   ],
   "source": [
    "log.debug(\"asdsa\")\n",
    "log.info(\"asdsa\")"
   ]
  },
  {
   "cell_type": "code",
   "execution_count": 8,
   "metadata": {
    "collapsed": false,
    "scrolled": false
   },
   "outputs": [],
   "source": [
    "from multiprocessing import Pool\n",
    "l = 300\n",
    "\n",
    "def testwords(rule):\n",
    "    dicti = {\"1\": rule[1], \"0\": rule[0]}\n",
    "    word = subs(dicti, l)\n",
    "    ret = zpu.isZps(word)\n",
    "    if (ret[0]==True):\n",
    "        bis = [ret[1], ret[2]]\n",
    "        bis_c = zpu.makeBiseq(ret[1], ret[2])\n",
    "        bisR = zpu.maximizeRinBiseq(ret[1], ret[2])\n",
    "        if not (re.match(cpattern, bisR[1])) and \\\n",
    "        not (re.match(dpattern, word))and \\\n",
    "        not (re.search(epattern, bis_c)) and \\\n",
    "        not (re.search(fpattern, bis_c)):\n",
    "            return  str(dicti) + \" \"+ \" slovo: \" + word[:40] + \" \" + str(bis)\n",
    "def getresults(lphi0, lphi1):\n",
    "    pool = Pool(processes=4)\n",
    "    results = []\n",
    "    for rep1 in range(1,lphi0):\n",
    "        for rep2 in range(1,lphi1+1):\n",
    "            phi0 = ['0'+ ''.join(i) for i in itertools.product('01', repeat=rep1)]\n",
    "            phi1 = [''.join(j) for j in itertools.product('01', repeat=rep2)]\n",
    "            cart = [ k for k in itertools.product(phi0, phi1)]\n",
    "            r = pool.map_async(testwords, cart)\n",
    "            results.append(list(filter(lambda x: x != None, r.get())))\n",
    "    return results\n",
    "\n",
    "def testwords2(rule):\n",
    "    dicti = {\"1\": rule[1], \"0\": rule[0]}\n",
    "    word = subs(dicti, l)\n",
    "    ret = zpu.isZps2(word)\n",
    "    if (ret[0]==True):\n",
    "        bis = [ret[1], ret[2]]\n",
    "        bis_c = zpu.makeBiseq(ret[1], ret[2])\n",
    "        bisR = zpu.maximizeRinBiseq(ret[1], ret[2])\n",
    "        if not (re.match(cpattern, bisR[1])) and \\\n",
    "        not (re.match(dpattern, word))and \\\n",
    "        not (re.search(epattern, bis_c)) and \\\n",
    "        not (re.search(fpattern, bis_c)):\n",
    "            return  str(dicti) + \" \"+ \" slovo: \" + word[:40] + \" \" + str(bis)\n",
    "def getresults2(lphi0, lphi1):\n",
    "    pool = Pool(processes=4)\n",
    "    results = []\n",
    "    for rep1 in range(1,lphi0):\n",
    "        for rep2 in range(1,lphi1+1):\n",
    "            phi0 = ['0'+ ''.join(i) for i in itertools.product('01', repeat=rep1)]\n",
    "            phi1 = [''.join(j) for j in itertools.product('01', repeat=rep2)]\n",
    "            cart = [ k for k in itertools.product(phi0, phi1)]\n",
    "            r = pool.map_async(testwords, cart)\n",
    "            results.append(list(filter(lambda x: x != None, r.get())))\n",
    "    return results"
   ]
  },
  {
   "cell_type": "code",
   "execution_count": 9,
   "metadata": {
    "collapsed": false
   },
   "outputs": [
    {
     "name": "stdout",
     "output_type": "stream",
     "text": [
      "CPU times: user 63.3 ms, sys: 23.3 ms, total: 86.7 ms\n",
      "Wall time: 14.9 s\n",
      "CPU times: user 60 ms, sys: 16.7 ms, total: 76.7 ms\n",
      "Wall time: 15 s\n",
      "{'1': '10', '0': '01'}  slovo: 0110100110010110100101100110100110010110 ['011111111', 'RERERERER']\n",
      "{'1': '1001', '0': '0110'}  slovo: 0110100110010110100101100110100110010110 ['011111111', 'RERERERER']\n",
      "\n",
      "{'1': '10', '0': '01'}  slovo: 0110100110010110100101100110100110010110 ['011111111', 'RERERERER']\n",
      "{'1': '1001', '0': '0110'}  slovo: 0110100110010110100101100110100110010110 ['011111111', 'RERERERER']\n"
     ]
    }
   ],
   "source": [
    "%time results = getresults(5, 5)\n",
    "%time results2 = getresults2(5, 5)\n",
    "\n",
    "for result in results:\n",
    "    for words in result:\n",
    "        print(words)\n",
    "print(\"\")\n",
    "for result in results2:\n",
    "    for words in result:\n",
    "        print(words)"
   ]
  },
  {
   "cell_type": "code",
   "execution_count": 29,
   "metadata": {
    "collapsed": false
   },
   "outputs": [
    {
     "name": "stdout",
     "output_type": "stream",
     "text": [
      "CPU times: user 0 ns, sys: 0 ns, total: 0 ns\n",
      "Wall time: 18.1 µs\n",
      "[None, None, None, None, \"{'1': '10011001100110', '0': '011001'}  slovo: 0110011001100110011010011001100110011001 ['01101010101101010101', 'RERERERERERERERERERE']\", None, None, None, None]\n"
     ]
    }
   ],
   "source": [
    "totest = ((\"01110\", \"10001\"),(\"011110\", \"100001\"), (\"001110\", \"0011100011\"),\n",
    "              (\"000111\", \"00000010111111\"), (\"011001\", \"10011001100110\"),\n",
    "              (\"0101110\", \"0010110\"), (\"0010111\", \"0111010\"), (\"0011010\",\"0111010\"),\n",
    "             (\"0011010\",\"1001110\"))\n",
    "%time r = map(testwords, totest)\n",
    "print(list(r))"
   ]
  },
  {
   "cell_type": "code",
   "execution_count": 9,
   "metadata": {
    "collapsed": false
   },
   "outputs": [
    {
     "data": {
      "text/plain": [
       "[True, '01001', 'RERRR']"
      ]
     },
     "execution_count": 9,
     "metadata": {},
     "output_type": "execute_result"
    }
   ],
   "source": [
    "zpu.isZps2(\"01001010010\")"
   ]
  },
  {
   "cell_type": "code",
   "execution_count": null,
   "metadata": {
    "collapsed": false
   },
   "outputs": [],
   "source": [
    "dicti = {\"1\": \"10001\", \"0\": \"01110\"}\n",
    "w = subs(dicti, 200)\n",
    "w2 = zpu.makeWord(\"011111111111\", \"RERERERERERE\", 9)\n",
    "print(w)\n",
    "print(w2)\n",
    "print(w[:100] == w2[:100])"
   ]
  },
  {
   "cell_type": "code",
   "execution_count": null,
   "metadata": {
    "collapsed": false,
    "scrolled": true
   },
   "outputs": [],
   "source": [
    "def tests():\n",
    "    results = []\n",
    "    for rep1 in range(1,5):\n",
    "        for rep2 in range(1,5):\n",
    "            phi0 = ['0'+ ''.join(i) for i in itertools.product('01', repeat=rep1)]\n",
    "            phi1 = [''.join(j) for j in itertools.product('01', repeat=rep2)]\n",
    "            cart = [ k for k in itertools.product(phi0, phi1)]\n",
    "            n = 500\n",
    "            for rule in cart:\n",
    "                dicti = {\"1\": rule[1], \"0\": rule[0]}\n",
    "                word = subs(dicti, n)\n",
    "                ret = zpu.isZps(word)\n",
    "                if (ret[0]==True):\n",
    "                    bis = [ret[1], ret[2]]\n",
    "                    bis_c = zpu.makeBiseq(ret[1], ret[2])\n",
    "                    bisR = zpu.maximizeRinBiseq(ret[1], ret[2])\n",
    "                    if not (re.match(cpattern, bisR[1])) and \\\n",
    "                    not (re.match(dpattern, word))and \\\n",
    "                    not (re.search(epattern, bis_c)) and \\\n",
    "                    not (re.search(fpattern, bis_c)):\n",
    "                        results.append( str(dicti) + \" \"+ \\\n",
    "                                       \" slovo: \" + word[:40] + \" \" + str(bis))\n",
    "                        \n",
    "    return results\n",
    "\n",
    "%time ress = tests()\n",
    "\n",
    "for res in ress:\n",
    "    print(res)"
   ]
  },
  {
   "cell_type": "code",
   "execution_count": null,
   "metadata": {
    "collapsed": false
   },
   "outputs": [],
   "source": []
  },
  {
   "cell_type": "code",
   "execution_count": null,
   "metadata": {
    "collapsed": false
   },
   "outputs": [],
   "source": [
    "def test(problematic, n):\n",
    "    print(len(problematic))\n",
    "    vyhozene = []\n",
    "    zustavajici = []\n",
    "    j = 0\n",
    "    bs = []\n",
    "    for rule in problematic:\n",
    "                dicti = {\"0\": rule[0], \"1\": rule[1]}\n",
    "                word = subs(dicti, n)\n",
    "                ret = zpu.isZps(word)\n",
    "                if (ret[0]==True):\n",
    "                    bis = zpu.maximizeRinBiseq(ret[1], ret[2])\n",
    "                    if not (re.match(cpattern, bis[1])) and \\\n",
    "                    not (re.match(dpattern, word)):\n",
    "                        j = j + 1\n",
    "                        print(str(dicti) + str(ret[0]) + \" slovo: \" + word[:100])\n",
    "                        print(bis)\n",
    "                        print(\"\")\n",
    "                    zustavajici.append((dicti[\"0\"], dicti[\"1\"]))\n",
    "                    bs.append(bis)\n",
    "                else:\n",
    "                    s = str(dicti) + str(ret[0]) + \" slovo: \" + word[:50]\n",
    "                    vyhozene.append([s,ret])\n",
    "    print(\"\")\n",
    "    print(\"Vyhozene:\")\n",
    "    for vyhozena in vyhozene:\n",
    "        print(vyhozena)\n",
    "        print(\"\")\n",
    "    return (zustavajici, bs)"
   ]
  },
  {
   "cell_type": "code",
   "execution_count": null,
   "metadata": {
    "collapsed": false
   },
   "outputs": [],
   "source": [
    "'''problematic = ((\"01\", \"10\"),(\"0110110\", \"1001001\"), (\"0110110\", \"110110110\"),\n",
    "              (\"01010101\", \"01010101011\"), (\"0101010101\", \"1010101011\"),\n",
    "              (\"010101010\", \"01010101011\"), (\"010101010\", \"10101010011\"),\n",
    "              (\"010101010\", \"10101010110\"), (\"0110110110\", \"110110\"),\n",
    "              (\"0101010101\", \"010101011\"), (\"0110110110\", \"110110110\"),\n",
    "              (\"0101010101\", \"0101010011\"), (\"0101010101\", \"0101010110\"),\n",
    "              (\"0101010101\", \"0101011001\"), (\"0110011001\", \"1001100110\"),\n",
    "              (\"0110110110\", \"1001001001\"), (\"0101010101\", \"01010101011\"),\n",
    "              (\"01010101010\", \"10101011\"), (\"01010101010\", \"101010011\"),\n",
    "              (\"01010101010\", \"101010110\"), (\"01010101010\", \"101011001\"),\n",
    "              (\"01010101010\", \"1010101011\"), (\"010101010\", \"01010101011\"),\n",
    "              (\"010101010\", \"10101010011\"), (\"010101010\", \"10101010110\"),\n",
    "              (\"0110110110\", \"110110\"), (\"0101010101\", \"010101011\"),\n",
    "              (\"0110110110\", \"110110110\"), (\"01010101010\", \"10101010011\"), \n",
    "              (\"01010101010\",\"10101010110\"), (\"01010101010\", \"10101011001\"))'''\n",
    "n = 500\n",
    "vysledekcelkovy = test(problematic, n)\n",
    "vysledek3 = vysledekcelkovy[0]"
   ]
  },
  {
   "cell_type": "code",
   "execution_count": null,
   "metadata": {
    "collapsed": false,
    "scrolled": false
   },
   "outputs": [],
   "source": [
    "vysledek = vysledek3\n",
    "vysledek.append((\"0110110110110\", \"1001001001001\"))\n",
    "vysledek.append((\"0110\", \"1001\"))\n",
    "vysledek.append((\"01101001\", \"10010110\"))\n",
    "r = test(vysledek, 10000)\n",
    "l=list(zip(r[0],r[1]))\n",
    "print(\"\")\n",
    "print(\"\")\n",
    "for el in l:\n",
    "    print(el)"
   ]
  },
  {
   "cell_type": "code",
   "execution_count": null,
   "metadata": {
    "collapsed": true
   },
   "outputs": [],
   "source": []
  }
 ],
 "metadata": {
  "kernelspec": {
   "display_name": "Python 3",
   "language": "python",
   "name": "python3"
  },
  "language_info": {
   "codemirror_mode": {
    "name": "ipython",
    "version": 3
   },
   "file_extension": ".py",
   "mimetype": "text/x-python",
   "name": "python",
   "nbconvert_exporter": "python",
   "pygments_lexer": "ipython3",
   "version": "3.5.1"
  }
 },
 "nbformat": 4,
 "nbformat_minor": 0
}
