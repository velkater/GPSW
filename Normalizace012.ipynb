{
 "cells": [
  {
   "cell_type": "code",
   "execution_count": 16,
   "metadata": {
    "collapsed": false
   },
   "outputs": [],
   "source": [
    "import gpc # library for work with GPS words over {0,1}\n",
    "import math\n",
    "import itertools\n",
    "import re"
   ]
  },
  {
   "cell_type": "markdown",
   "metadata": {},
   "source": [
    "## Work with $E_i$-palindromes and closures"
   ]
  },
  {
   "cell_type": "code",
   "execution_count": 2,
   "metadata": {
    "collapsed": false
   },
   "outputs": [],
   "source": [
    "def Ei(i):\n",
    "    i = int(i)\n",
    "    ei = [0,0,0]\n",
    "    ei[i] = str(i)\n",
    "    ei[(i+1)%3] = str((2+i)%3)\n",
    "    ei[(i+2)%3] = str((1+i)%3)\n",
    "    return ei"
   ]
  },
  {
   "cell_type": "code",
   "execution_count": 17,
   "metadata": {
    "collapsed": false
   },
   "outputs": [
    {
     "name": "stdout",
     "output_type": "stream",
     "text": [
      "['2', '1', '0']\n"
     ]
    }
   ],
   "source": [
    "# Example:\n",
    "print(Ei(1))"
   ]
  },
  {
   "cell_type": "code",
   "execution_count": 3,
   "metadata": {
    "collapsed": false
   },
   "outputs": [],
   "source": [
    "def isEipal(seq, i):\n",
    "    \"\"\"Checks if a string seq is an E_i palindrome.\"\"\"\n",
    "    ei = Ei(i)\n",
    "    l = len(seq)\n",
    "    if l == 1:\n",
    "        if seq == str(i):\n",
    "            return True\n",
    "        else:\n",
    "            return False\n",
    "    for x in range(0, math.ceil(l/2)):\n",
    "        if seq[x] != ei[int(seq[l-1-x])]:\n",
    "            return False\n",
    "    return(True)"
   ]
  },
  {
   "cell_type": "code",
   "execution_count": 23,
   "metadata": {
    "collapsed": false
   },
   "outputs": [
    {
     "name": "stdout",
     "output_type": "stream",
     "text": [
      "True\n",
      "False\n",
      "True\n"
     ]
    }
   ],
   "source": [
    "# Example:\n",
    "print(isEipal(\"012\", 1))\n",
    "print(isEipal(\"002\", 1))\n",
    "print(isEipal(\"01201\", 2))"
   ]
  },
  {
   "cell_type": "code",
   "execution_count": 4,
   "metadata": {
    "collapsed": false
   },
   "outputs": [],
   "source": [
    "def testPalindromicity(seq):\n",
    "    \"\"\"Checks if a seq is an palindrome or and E-palindrome and \n",
    "    returns its nature.\"\"\"\n",
    "    if isEipal(seq,0):\n",
    "        return [True, \"0\"]\n",
    "    elif isEipal(seq, 1):\n",
    "        return [True, \"1\"]\n",
    "    elif isEipal(seq, 2):\n",
    "        return [True, \"2\"]\n",
    "    elif gpc.isPal(seq):\n",
    "        return [True, \"R\"]\n",
    "    else:\n",
    "        return [False]"
   ]
  },
  {
   "cell_type": "code",
   "execution_count": 29,
   "metadata": {
    "collapsed": false
   },
   "outputs": [
    {
     "name": "stdout",
     "output_type": "stream",
     "text": [
      "[True, '0']\n",
      "[True, '0']\n",
      "[True, 'R']\n",
      "[False]\n"
     ]
    }
   ],
   "source": [
    "# Example:\n",
    "print(testPalindromicity(\"0210\"))\n",
    "print(testPalindromicity(\"00\")) # We want 00 to be an E_0-palindrome\n",
    "print(testPalindromicity(\"010\"))\n",
    "print(testPalindromicity(\"02110\"))"
   ]
  },
  {
   "cell_type": "code",
   "execution_count": 31,
   "metadata": {
    "collapsed": false
   },
   "outputs": [],
   "source": [
    "def makeEipalClosure (seq, i):\n",
    "    \"\"\"Makes E_i-th palindromic closure of a string.\"\"\"\n",
    "    ei = Ei(i)\n",
    "    if isEipal(seq, i) == True:\n",
    "        return(seq)\n",
    "    j = 1\n",
    "    while isEipal(seq[j:], i) != True:\n",
    "        j = j+1\n",
    "    gpc.verboseprint(2, \"    {0} longest palindromic \\\n",
    "                     suffix : {1}\".format(seq,seq[j:]))\n",
    "    closure = seq\n",
    "    pref = seq[j-1::-1]\n",
    "    for letter in pref:\n",
    "        closure = closure + ei[int(letter)]\n",
    "    return(closure)"
   ]
  },
  {
   "cell_type": "code",
   "execution_count": 38,
   "metadata": {
    "collapsed": false
   },
   "outputs": [
    {
     "name": "stdout",
     "output_type": "stream",
     "text": [
      "012\n",
      "0011\n",
      "00\n",
      "0212102021\n"
     ]
    }
   ],
   "source": [
    "# Example:\n",
    "print(makeEipalClosure(\"01\", 1))\n",
    "print(makeEipalClosure(\"00\", 2))\n",
    "print(makeEipalClosure(\"00\", 0))\n",
    "print(makeEipalClosure(\"021210\", 2))"
   ]
  },
  {
   "cell_type": "code",
   "execution_count": 32,
   "metadata": {
    "collapsed": false
   },
   "outputs": [],
   "source": [
    "def make012Word(delta, theta, steps, seed = \"\"):\n",
    "    \"\"\"Makes a GPS over {0,1,2} from sequences delta and theta.\"\"\"\n",
    "    w = seed\n",
    "    for step in range(0,steps):\n",
    "        w = w + delta[step]\n",
    "        if theta[step] == \"R\":\n",
    "            w = zpu.makePalClosure(w)\n",
    "        elif theta[step] in [\"0\", \"1\", \"2\"]:\n",
    "            w = makeEipalClosure(w, theta[step])\n",
    "        else:\n",
    "            print(\"wrong symbol\")\n",
    "            break\n",
    "        gpc.verboseprint(1, \"w{0} = {1}\".format(step+1,w))\n",
    "    return(w)"
   ]
  },
  {
   "cell_type": "code",
   "execution_count": 42,
   "metadata": {
    "collapsed": false
   },
   "outputs": [
    {
     "data": {
      "text/plain": [
       "'00112200'"
      ]
     },
     "execution_count": 42,
     "metadata": {},
     "output_type": "execute_result"
    }
   ],
   "source": [
    "# Example:\n",
    "make012Word(\"0012\", \"0020\", 4)"
   ]
  },
  {
   "cell_type": "markdown",
   "metadata": {},
   "source": [
    "## Naive function for controlling normalization"
   ]
  },
  {
   "cell_type": "code",
   "execution_count": 34,
   "metadata": {
    "collapsed": false
   },
   "outputs": [],
   "source": [
    "def is012NormalizedNaive(delta, theta, steps):\n",
    "    \"\"\"Checks if delta and theta are normalized and if not, \n",
    "    returns the beginning of the normalized sequence.\"\"\"\n",
    "    w = \"\"\n",
    "    l=1\n",
    "    prefixes = []\n",
    "    for step in range(0,steps):\n",
    "        w = w + delta[step]\n",
    "        if theta[step] == \"R\":\n",
    "            w = gpc.makePalClosure(w)\n",
    "        elif theta[step] in [\"0\", \"1\", \"2\"]:\n",
    "            w = makeEipalClosure(w, theta[step])\n",
    "        else:\n",
    "            print(\"wrong symbol\")\n",
    "            break\n",
    "        prefixes.append(w)\n",
    "    gpc.verboseprint(1, \"Prefixes from (delta, theta): \" + str(prefixes))\n",
    "    gpc.verboseprint(1, \"Obtained word: \" + w)\n",
    "    newdelta = delta[0]\n",
    "    newtheta = \"\"\n",
    "    while l <= len(w):\n",
    "        prefix = w[:l]\n",
    "        res = testPalindromicity(prefix)\n",
    "        if res[0] == True:\n",
    "            if l< len(w):\n",
    "                newdelta = newdelta + w[l]\n",
    "            newtheta = newtheta + res[1]           \n",
    "        l=l+1\n",
    "    if newdelta == delta[:steps] and newtheta == theta[:steps]:\n",
    "        return [True]\n",
    "    else:\n",
    "        return [False, newdelta, newtheta]\n",
    "    \n",
    "    # The length of newdelta and newtheta are the same since the whole word \n",
    "    # is an palindrome because if was generated by the GPS construction\n",
    "    # from delta and theta."
   ]
  },
  {
   "cell_type": "code",
   "execution_count": 41,
   "metadata": {
    "collapsed": false
   },
   "outputs": [
    {
     "name": "stdout",
     "output_type": "stream",
     "text": [
      "[False, '00120', '00210']\n",
      "[True]\n"
     ]
    }
   ],
   "source": [
    "# Example: \n",
    "print(is012NormalizedNaive(\"0012\", \"0020\", 4))\n",
    "print(is012NormalizedNaive(\"00120\", \"00210\", 4))"
   ]
  },
  {
   "cell_type": "markdown",
   "metadata": {},
   "source": [
    "## Implementation of the normalization algorithm"
   ]
  },
  {
   "cell_type": "markdown",
   "metadata": {},
   "source": [
    "### Preprocessing of the normalized bi-sequence for our implementation"
   ]
  },
  {
   "cell_type": "markdown",
   "metadata": {},
   "source": [
    "In our implementation of the algorithm, we decided to work only with words\n",
    "that has 0 as first letter, 1 at second and 2 at third in order to make the \n",
    "algorithm easier to read and write. Of course, we want it working for all\n",
    "the bi-sequences, so we have to preprocess the bi-sequence so that the word\n",
    "obtained has first 0, then 1 and then 2. After the result of the algorithm,\n",
    "we will go back to the original letters order."
   ]
  },
  {
   "cell_type": "code",
   "execution_count": 65,
   "metadata": {
    "collapsed": true
   },
   "outputs": [],
   "source": [
    "def substitute(dic, seq):\n",
    "    newseq = \"\"\n",
    "    for l in seq:\n",
    "        if l in dic:\n",
    "            newseq = newseq + dic[l]\n",
    "        else:\n",
    "            newseq = newseq + l\n",
    "    return newseq"
   ]
  },
  {
   "cell_type": "code",
   "execution_count": 66,
   "metadata": {
    "collapsed": false
   },
   "outputs": [
    {
     "data": {
      "text/plain": [
       "False"
      ]
     },
     "execution_count": 66,
     "metadata": {},
     "output_type": "execute_result"
    }
   ],
   "source": [
    "dicti = {\"0\": \"1\", \"2\": \"1\"}\n",
    "\"1\" in dicti"
   ]
  },
  {
   "cell_type": "code",
   "execution_count": 67,
   "metadata": {
    "collapsed": true
   },
   "outputs": [],
   "source": [
    "def changeLettersOrder(delta, theta):\n",
    "    \n",
    "    if delta[0] != 0:\n",
    "        subs1 = {delta[0]: \"0\", \"0\": delta[0]}\n",
    "        delta = substitute(subs, delta)\n",
    "        theta = substitute(subs, delta)\n",
    "    i = 0\n",
    "    while delta[i] == \"0\":\n",
    "        if theta[i] == \"2\":\n",
    "            #konec\n",
    "        if theta[i] == \"1\":\n",
    "            subs3 = {\"2\": \"1\", \"1\": \"2\"}\n",
    "        #jinak musime dal\n",
    "        i = i + 1\n",
    "    return [delta, theta, finalsubstitution]"
   ]
  },
  {
   "cell_type": "code",
   "execution_count": 68,
   "metadata": {
    "collapsed": false
   },
   "outputs": [
    {
     "name": "stdout",
     "output_type": "stream",
     "text": [
      "{'1': '0', '0': '1'}\n"
     ]
    },
    {
     "data": {
      "text/plain": [
       "'000022221111'"
      ]
     },
     "execution_count": 68,
     "metadata": {},
     "output_type": "execute_result"
    }
   ],
   "source": [
    "changeLettersOrder(\"111122220000\", \"11111\")"
   ]
  },
  {
   "cell_type": "markdown",
   "metadata": {},
   "source": [
    "### Preprocessing of the beginning of the bi-sequence"
   ]
  },
  {
   "cell_type": "markdown",
   "metadata": {},
   "source": [
    "We want that every word beginning with $i^l$ (where $l$ is the largest\n",
    "possible) has a bi-directive sequence $(\\Delta, \\Theta)$ where the prefix\n",
    "of $\\Theta$ of lenght $l$ is equal to $E^l_i$. (We only solve the cases\n",
    "when there is an $R$ instead of $E_0$ (e.g. $(0000, RE_0RE_0) \\to (0000, E_0E_0E_0E_0)$, since the other cases are then solved\n",
    "within the normalization process."
   ]
  },
  {
   "cell_type": "code",
   "execution_count": 8,
   "metadata": {
    "collapsed": true
   },
   "outputs": [],
   "source": [
    "def beginningNormalization(delta, theta):\n",
    "    biseq = gpc.makeBiseq(delta, theta)\n",
    "    m = re.match(\"(0(R|0))+\", biseq)\n",
    "    if m:\n",
    "        biseq = \"00\"*int((m.end()-m.start())/2) + biseq[m.end():]\n",
    "    return gpc.parseBiseq(biseq)"
   ]
  },
  {
   "cell_type": "code",
   "execution_count": 9,
   "metadata": {
    "collapsed": false
   },
   "outputs": [
    {
     "data": {
      "text/plain": [
       "['000011', '000021']"
      ]
     },
     "execution_count": 9,
     "metadata": {},
     "output_type": "execute_result"
    }
   ],
   "source": [
    "beginningNormalization(\"000011\", \"R0R021\")"
   ]
  },
  {
   "cell_type": "markdown",
   "metadata": {},
   "source": [
    "### Auxiliary functions"
   ]
  },
  {
   "cell_type": "markdown",
   "metadata": {
    "collapsed": true
   },
   "source": [
    "<img src=\"prefixesrules.jpg\",width=600>\n",
    "    \n",
    "    \n",
    "    "
   ]
  },
  {
   "cell_type": "code",
   "execution_count": 10,
   "metadata": {
    "collapsed": false
   },
   "outputs": [],
   "source": [
    "# List: bad prefix regex --> the new symbols instead of the last one\n",
    "bad_prefixes = [\n",
    "    [\"(00)*02\", \"0012\"], # 1.\n",
    "    [\"0012(0R12)*0R10\", \"1220\"], # 2.\n",
    "    [\"0012(0R12)+01\", \"0R21\"],  # 3.\n",
    "    [\"00121121\", \"2001\"], # 4.\n",
    "    [\"001210\", \"1120\"], # 5.\n",
    "    [\"001212\", \"1R02\"], # 6.\n",
    "    [\"0012211R(111R)*1112\", \"1R02\"] # 7.\n",
    "    [\"0012211R(111R)+10\", \"1100\"] # 8.\n",
    "    [\"011R\", \"00120R\"] # 9. !! the last two letters are rewritten !!\n",
    "    [\"001222\", \"210012\"] # 10.\n",
    "    [\"0011\", \"1221\"] # 11.\n",
    "    [\"0012(0R12)*10\", \"1R20\"] # 12.\n",
    "    [\"0012(0R12)*0R11\", \"1221\"] # 13.\n",
    "    [\"(001221)+00122R\", \"211R\"] # 14.\n",
    "    # 13 more to write down !\n",
    "]"
   ]
  },
  {
   "cell_type": "markdown",
   "metadata": {},
   "source": [
    "### Normalization algorithm"
   ]
  },
  {
   "cell_type": "code",
   "execution_count": null,
   "metadata": {
    "collapsed": true
   },
   "outputs": [],
   "source": [
    "def normalize(delta, theta):\n",
    "    \"\"\"Returns the normalized directive bi-sequence giving the same GPS word\n",
    "    as (delta, theta)\"\"\"\n",
    "    # Normalization of the letters order\n",
    "    \n",
    "    \n",
    "    # Normalization of the prefix\n",
    "    [delta, theta] = beginningNormalization(delta, theta)\n",
    "    \n",
    "    biseq = makeBiseq(delta, theta)\n",
    "    bad_matches = find_bad_factors()\n",
    "    \n",
    "    # The main algorithm"
   ]
  },
  {
   "cell_type": "raw",
   "metadata": {
    "collapsed": false
   },
   "source": []
  },
  {
   "cell_type": "raw",
   "metadata": {
    "collapsed": false
   },
   "source": []
  },
  {
   "cell_type": "code",
   "execution_count": null,
   "metadata": {
    "collapsed": true
   },
   "outputs": [],
   "source": []
  }
 ],
 "metadata": {
  "kernelspec": {
   "display_name": "Python 3",
   "language": "python",
   "name": "python3"
  },
  "language_info": {
   "codemirror_mode": {
    "name": "ipython",
    "version": 3
   },
   "file_extension": ".py",
   "mimetype": "text/x-python",
   "name": "python",
   "nbconvert_exporter": "python",
   "pygments_lexer": "ipython3",
   "version": "3.5.2"
  }
 },
 "nbformat": 4,
 "nbformat_minor": 0
}
