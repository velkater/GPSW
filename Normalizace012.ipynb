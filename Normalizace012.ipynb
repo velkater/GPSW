{
 "cells": [
  {
   "cell_type": "code",
   "execution_count": 2,
   "metadata": {
    "collapsed": false
   },
   "outputs": [],
   "source": [
    "import gpc\n",
    "import itertools\n",
    "import math\n",
    "import re"
   ]
  },
  {
   "cell_type": "code",
   "execution_count": 3,
   "metadata": {
    "collapsed": false
   },
   "outputs": [],
   "source": [
    "def Ei(i):\n",
    "    i = int(i)\n",
    "    ei = [0,0,0]\n",
    "    ei[i] = str(i)\n",
    "    ei[(i+1)%3] = str((2+i)%3)\n",
    "    ei[(i+2)%3] = str((1+i)%3)\n",
    "    return ei"
   ]
  },
  {
   "cell_type": "code",
   "execution_count": 4,
   "metadata": {
    "collapsed": false
   },
   "outputs": [],
   "source": [
    "def isEipal(seq, i):\n",
    "    \"kontroluje jestli řetězec je pseudopalindrom\"\n",
    "    ei = Ei(i)\n",
    "    l = len(seq)\n",
    "    if l == 1:\n",
    "        if seq == str(i):\n",
    "            return True\n",
    "        else:\n",
    "            return False\n",
    "    for x in range(0, math.ceil(l/2)):\n",
    "        if seq[x] != ei[int(seq[l-1-x])]:\n",
    "            return False\n",
    "    return(True)"
   ]
  },
  {
   "cell_type": "code",
   "execution_count": 5,
   "metadata": {
    "collapsed": false
   },
   "outputs": [],
   "source": [
    "def makeEipalClosure (seq, i):\n",
    "    \"udělá z řetězce pseudopalindromický uzávěr\"\n",
    "    ei = Ei(i)\n",
    "    if isEipal(seq, i) == True:\n",
    "        return(seq)\n",
    "    j = 1\n",
    "    while isEipal(seq[j:], i) != True:\n",
    "        j = j+1\n",
    "    #print(\"    {0} nejdelší pseudopalindromický sufix : {1}\".format(seq,seq[j:]))\n",
    "    closure = seq\n",
    "    pref = seq[j-1::-1]\n",
    "    for letter in pref:\n",
    "        closure = closure + ei[int(letter)]\n",
    "    return(closure)"
   ]
  },
  {
   "cell_type": "code",
   "execution_count": 6,
   "metadata": {
    "collapsed": false
   },
   "outputs": [],
   "source": [
    "def make012Word(delta, theta, steps, seed = \"\"):\n",
    "    \"vytvoří slovo pomocí řídící posloupnosti a posloupnosti uzávěrů\"\n",
    "    w = seed\n",
    "    for step in range(0,steps):\n",
    "        w = w + delta[step]\n",
    "        if theta[step] == \"R\":\n",
    "            w = zpu.makePalClosure(w)\n",
    "        elif theta[step] in [\"0\", \"1\", \"2\"]:\n",
    "            w = makeEipalClosure(w, theta[step])\n",
    "        else:\n",
    "            print(\"wrong symbol\")\n",
    "            break\n",
    "        #print(\"w{0} = {1}\".format(step+1,w))\n",
    "    return(w)"
   ]
  },
  {
   "cell_type": "markdown",
   "metadata": {},
   "source": [
    "## Zakázané prefixy"
   ]
  },
  {
   "cell_type": "code",
   "execution_count": 7,
   "metadata": {
    "collapsed": true
   },
   "outputs": [],
   "source": [
    "def normalize(delta, theta):\n",
    "    \"\"\"Returns the normalized directive bi-sequence giving the same GPS word\n",
    "    as (delta, theta)\"\"\"\n",
    "    biseq = makeBiseq(delta, theta)\n",
    "    bad_matches = find_bad_factors()\n",
    "    \n",
    "    \n",
    "    "
   ]
  },
  {
   "cell_type": "code",
   "execution_count": 23,
   "metadata": {
    "collapsed": false
   },
   "outputs": [
    {
     "name": "stdout",
     "output_type": "stream",
     "text": [
      "<_sre.SRE_Match object; span=(4, 6), match='01'>\n"
     ]
    }
   ],
   "source": [
    "print(re.search('01$', '010101'))"
   ]
  },
  {
   "cell_type": "code",
   "execution_count": null,
   "metadata": {
    "collapsed": true
   },
   "outputs": [],
   "source": []
  },
  {
   "cell_type": "raw",
   "metadata": {
    "collapsed": true
   },
   "source": [
    "bad_prefixes= {\n",
    "    # 1.\n",
    "    \"\" : \"\",\n",
    "    \n",
    "    # 2.\n",
    "    \"\" : \"\",   \n",
    "    # 3.\n",
    "    \"\" : \"\",\n",
    "    \n",
    "    # 4.\n",
    "    \"\" : \"\", \n",
    "    # 5.\n",
    "    \"\" : \"\",\n",
    "    \n",
    "    # 6.\n",
    "    \"\" : \"\", \n",
    "    # 7.\n",
    "    \"\" : \"\",\n",
    "    \n",
    "    # 8.\n",
    "    \"\" : \"\", \n",
    "    # 9.\n",
    "    \"\" : \"\",\n",
    "    \n",
    "    # 10.\n",
    "    \"\" : \"\", \n",
    "    # 11.\n",
    "    \"\" : \"\",\n",
    "    \n",
    "    # 12.\n",
    "    \"\" : \"\", \n",
    "    # 13.\n",
    "    \"\" : \"\",\n",
    "    \n",
    "    # 14.\n",
    "    \"\" : \"\", \n",
    "    # 15.\n",
    "    \"\" : \"\",\n",
    "    \n",
    "    # 16.\n",
    "    \"\" : \"\", \n",
    "    # 17.\n",
    "    \"\" : \"\",\n",
    "    \n",
    "    # 18.\n",
    "    \"\" : \"\", \n",
    "    # 19.\n",
    "    \"\" : \"\",\n",
    "    \n",
    "    # 20.\n",
    "    \"\" : \"\", \n",
    "    # 21.\n",
    "    \"\" : \"\",\n",
    "    \n",
    "    # 22.\n",
    "    \"\" : \"\", \n",
    "    # 23.\n",
    "    \"\" : \"\",\n",
    "    \n",
    "    # 24.\n",
    "    \"\" : \"\", \n",
    "    # 25.\n",
    "    \"\" : \"\",\n",
    "    \n",
    "    # 26.\n",
    "    \"\" : \"\", \n",
    "    # 27\n",
    "    \"\" : \"\",\n",
    "}\n"
   ]
  },
  {
   "cell_type": "raw",
   "metadata": {
    "collapsed": false
   },
   "source": [
    "def is012Normalized(delta, theta, steps):\n",
    "    \"kontroluje jestli muzou byt delts a theta normalizovane\"\n",
    "    w = \"\"\n",
    "    l=1\n",
    "    prefixes = []\n",
    "    for step in range(0,steps):\n",
    "        w = w + delta[step]\n",
    "        if theta[step] == \"R\":\n",
    "            w = zpu.makePalClosure(w)\n",
    "        elif theta[step] in [\"0\", \"1\", \"2\"]:\n",
    "            w = makeEipalClosure(w, theta[step])\n",
    "        else:\n",
    "            print(\"wrong symbol\")\n",
    "            break\n",
    "        prefixes.append(w)\n",
    "    #print(prefixes)\n",
    "    #print(w)\n",
    "    while l <= len(w):\n",
    "        prefix = w[:l]\n",
    "        if zpu.isPal(prefix) or isEipal(prefix,0) or isEipal(prefix,0) or isEipal(prefix,0):\n",
    "            if prefix in prefixes:\n",
    "                #print(prefix + \": OK\")\n",
    "                pass\n",
    "            else:\n",
    "                #print(\"prefixy neobsahuji: \" + prefix)\n",
    "                return False\n",
    "        l=l+1\n",
    "    return True"
   ]
  },
  {
   "cell_type": "markdown",
   "metadata": {
    "collapsed": false
   },
   "source": [
    "is012Normalized(\"0100001\",\"R012RR2\", 7)"
   ]
  },
  {
   "cell_type": "raw",
   "metadata": {
    "collapsed": false
   },
   "source": [
    "# Počet kroků\n",
    "steps = 7\n",
    "# Všechny kombinace pro delty a thety\n",
    "thetas = [''.join(i) for i in itertools.product('R012', repeat=steps)]\n",
    "deltas = [''.join(i) for i in itertools.product('012', repeat=steps)]\n",
    "print(thetas)\n",
    "print(deltas)"
   ]
  },
  {
   "cell_type": "raw",
   "metadata": {
    "collapsed": false
   },
   "source": [
    "t = open('True.txt','w')\n",
    "f = open('False.txt','w')\n",
    "\n",
    "for theta in thetas:\n",
    "    for delta in deltas:\n",
    "        result = is012Normalized(delta, theta, steps)\n",
    "        if result:\n",
    "            print(\"Theta: \"+ theta + \" Delta: \" + delta +  \" ===> u = \" + make012Word(delta, theta, steps), file = t)\n",
    "        else:\n",
    "            print(\"Theta: \"+ theta + \" Delta: \" + delta +  \" ===> u = \" + make012Word(delta, theta, steps), file = f)\n",
    "            \n",
    "        print(\"Theta: \"+ theta + \" Delta: \" + delta +  \" ===> u = \" + make012Word(delta, theta, steps))\n",
    "        print(result)\n",
    "        print(\"\")\n",
    "        \n",
    "f.close()\n",
    "t.close()"
   ]
  },
  {
   "cell_type": "code",
   "execution_count": null,
   "metadata": {
    "collapsed": false
   },
   "outputs": [],
   "source": [
    "isEipal(\"012\", 1)"
   ]
  },
  {
   "cell_type": "code",
   "execution_count": null,
   "metadata": {
    "collapsed": false
   },
   "outputs": [],
   "source": [
    "a = [0,1, \"ahoj\"]\n",
    "a = [a, \"dalsi\"]"
   ]
  },
  {
   "cell_type": "code",
   "execution_count": null,
   "metadata": {
    "collapsed": true
   },
   "outputs": [],
   "source": []
  }
 ],
 "metadata": {
  "kernelspec": {
   "display_name": "Python 3",
   "language": "python",
   "name": "python3"
  },
  "language_info": {
   "codemirror_mode": {
    "name": "ipython",
    "version": 3
   },
   "file_extension": ".py",
   "mimetype": "text/x-python",
   "name": "python",
   "nbconvert_exporter": "python",
   "pygments_lexer": "ipython3",
   "version": "3.5.2"
  }
 },
 "nbformat": 4,
 "nbformat_minor": 0
}
