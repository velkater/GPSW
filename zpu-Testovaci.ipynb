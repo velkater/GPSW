{
 "cells": [
  {
   "cell_type": "markdown",
   "metadata": {},
   "source": [
    "# Zobecněný pseudopalindromický uzávěr"
   ]
  },
  {
   "cell_type": "markdown",
   "metadata": {},
   "source": [
    "## Funkce pro vytvoření zobecněného pseudopalindromického uzávěru"
   ]
  },
  {
   "cell_type": "code",
   "execution_count": 1,
   "metadata": {
    "collapsed": true
   },
   "outputs": [],
   "source": [
    "import time\n",
    "import itertools\n",
    "import re"
   ]
  },
  {
   "cell_type": "code",
   "execution_count": 2,
   "metadata": {
    "collapsed": false
   },
   "outputs": [],
   "source": [
    "verbose = True\n",
    "verboseprint = print if verbose else lambda *a, **k: None"
   ]
  },
  {
   "cell_type": "code",
   "execution_count": null,
   "metadata": {
    "collapsed": false
   },
   "outputs": [],
   "source": []
  },
  {
   "cell_type": "code",
   "execution_count": 3,
   "metadata": {
    "collapsed": false
   },
   "outputs": [],
   "source": [
    "def isPal(seq):\n",
    "    \"kontroluje jestli řetězec je palindrom\"\n",
    "    l = len(seq)\n",
    "    if l == 1:\n",
    "        return(True)\n",
    "    for x in range(0, l//2):\n",
    "        if seq[x] != seq[l-1-x]:\n",
    "            return(False)\n",
    "    return(True)\n",
    "\n",
    "def isEpal(seq):\n",
    "    \"kontroluje jestli řetězec je pseudopalindrom\"\n",
    "    l = len(seq)\n",
    "    if l%2 == 1:\n",
    "        return(False)\n",
    "    for x in range(0, l//2):\n",
    "        if seq[x] == seq[l-1-x]:\n",
    "            return(False)\n",
    "    return(True)"
   ]
  },
  {
   "cell_type": "code",
   "execution_count": 4,
   "metadata": {
    "collapsed": false
   },
   "outputs": [],
   "source": [
    "def makePalClosure (seq):\n",
    "    \"udělá z řetězce palindromický uzávěr\"\n",
    "    if isPal(seq) == True:\n",
    "        return(seq)\n",
    "    i = 1\n",
    "    while isPal(seq[i:]) != True:\n",
    "        i = i+1\n",
    "    #print(\"    {0} nejdelší palindromický uzávěr : {1}\".format(seq,seq[i:]))\n",
    "    #print(\"    délka nejdelší palindromický uzávěr : {0}\".format(len(seq[i:])))\n",
    "    closure = seq + seq[i-1::-1]\n",
    "    return(closure)\n",
    "\n",
    "def makeEpalClosure (seq):\n",
    "    \"udělá z řetězce pseudopalindromický uzávěr\"\n",
    "    if isEpal(seq) == True:\n",
    "        return(seq)\n",
    "    i = 1\n",
    "    while isEpal(seq[i:]) != True:\n",
    "        i = i+1\n",
    "    #print(\"    {0} nejdelší pseudopalindromický uzávěr : {1}\".format(seq,seq[i:]))\n",
    "    closure = seq\n",
    "    pref = seq[i-1::-1]\n",
    "    for letter in pref:\n",
    "        if letter == \"0\":\n",
    "            closure = closure + \"1\"\n",
    "        if letter == \"1\":\n",
    "            closure = closure + \"0\"\n",
    "    return(closure)"
   ]
  },
  {
   "cell_type": "code",
   "execution_count": 5,
   "metadata": {
    "collapsed": false
   },
   "outputs": [],
   "source": [
    "def makeWord(delta, theta, steps, seed = \"\"):\n",
    "    \"vytvoří slovo pomocí řídící posloupnosti a posloupnosti uzávěrů\"\n",
    "    w = seed\n",
    "    for step in range(0,steps):\n",
    "        w = w + delta[step]\n",
    "        if theta[step] == \"R\":\n",
    "            w = makePalClosure(w)\n",
    "        if theta[step] == \"E\":\n",
    "            w = makeEpalClosure(w)\n",
    "        #print(\"w{0} = {1}\".format(step+1,w))\n",
    "    return(w)"
   ]
  },
  {
   "cell_type": "code",
   "execution_count": 6,
   "metadata": {
    "collapsed": false
   },
   "outputs": [],
   "source": [
    "def makeS(word):\n",
    "    \"udělá operaci S na slovo\"\n",
    "    Sword = \"\"\n",
    "    for i in range(0,len(word)-1):\n",
    "        Sword += str((int(word[i]) + int(word[i+1])) %2)\n",
    "    return Sword"
   ]
  },
  {
   "cell_type": "code",
   "execution_count": 20,
   "metadata": {
    "collapsed": false
   },
   "outputs": [],
   "source": [
    "def isZps(word, closure = \"ER\", max_no_matters_closure_type = 0):\n",
    "    '''kontroluje, jestli možné, aby slovo bylo získané zobec. pal. uzávěrem,\n",
    "    pokud ano, vrací normalizovanou bidirektivní posloupnost''' \n",
    "    maximum = max_no_matters_closure_type\n",
    "    l=1\n",
    "    prefixes = []\n",
    "    while l <= len(word):\n",
    "        if ((l<=maximum or closure != \"E\") and isPal(word[:l])) or \\\n",
    "        ((l<=maximum or closure != \"R\") and isEpal(word[:l])):\n",
    "            prefixes.append(word[:l])\n",
    "        l=l+1\n",
    "    #print(prefixes)\n",
    "    \n",
    "    if not prefixes:\n",
    "        #print(\"No prefixes of type \" + str(closure) + \" were found\")\n",
    "        return([False])\n",
    "    if (len(prefixes[0]) > 2) or (len(prefixes[-1]) < len(word)//2) :\n",
    "        return([False])        \n",
    "        \n",
    "    iszps = True\n",
    "    i=0\n",
    "    if closure != \"E\":\n",
    "        newtheta = \"R\"\n",
    "        newdelta = prefixes[0]\n",
    "    else:\n",
    "        newtheta = \"E\"\n",
    "        newdelta = prefixes[0][0]\n",
    "        \n",
    "    while(i+1 < len(prefixes) and iszps == True):\n",
    "        newletter = prefixes[i+1][len(prefixes[i])]\n",
    "        condition_noE = (len(prefixes[i+1]) <= maximum) or (closure != \"E\")\n",
    "        condition_noR = (len(prefixes[i+1]) <= maximum) or (closure != \"R\")\n",
    "        if (condition_noE):\n",
    "            palclo = makePalClosure(prefixes[i]+ newletter)\n",
    "        if (condition_noR):\n",
    "            epalclo = makeEpalClosure(prefixes[i]+ newletter)\n",
    "\n",
    "        if(condition_noE and palclo == prefixes[i+1]):\n",
    "            newtheta = newtheta + \"R\"\n",
    "            newdelta = newdelta + newletter\n",
    "        elif(condition_noR and epalclo == prefixes[i+1]):\n",
    "            newtheta = newtheta + \"E\"\n",
    "            newdelta = newdelta + newletter\n",
    "        else:\n",
    "            iszps = False\n",
    "        i = i+1\n",
    "    return([iszps, newdelta, newtheta])"
   ]
  },
  {
   "cell_type": "code",
   "execution_count": 8,
   "metadata": {
    "collapsed": true
   },
   "outputs": [],
   "source": [
    "def isZP(word):\n",
    "    '''kontroluje, jestli možné, aby slovo bylo získané R-pal. uzávěrem,\n",
    "    pokud ano, vrací normalizovanou bidirektivní posloupnost''' \n",
    "    l=1\n",
    "    prefixes = []\n",
    "    while l <= len(word):\n",
    "        if isPal(word[:l]):\n",
    "            prefixes.append(word[:l])\n",
    "        l=l+1\n",
    "    #print(prefixes)\n",
    "    if not prefixes:\n",
    "        #print(\"No prefixes of type \" + str(closure) + \" were found\")\n",
    "        return([False])\n",
    "    if (len(prefixes[-1]) < len(word)//2) :\n",
    "        return([False])\n",
    "        \n",
    "    iszps = True\n",
    "    i=0\n",
    "    newtheta= \"R\"\n",
    "    newdelta= prefixes[0]\n",
    "    while(i+1 < len(prefixes) and iszps == True):\n",
    "        newletter = prefixes[i+1][len(prefixes[i])]\n",
    "        palclo = makePalClosure(prefixes[i]+ newletter)\n",
    "\n",
    "        if(palclo == prefixes[i+1]):\n",
    "            newtheta = newtheta + \"R\"\n",
    "            newdelta = newdelta + newletter\n",
    "        else:\n",
    "            iszps = False\n",
    "        i = i+1\n",
    "    return([iszps, newdelta, newtheta])"
   ]
  },
  {
   "cell_type": "code",
   "execution_count": 9,
   "metadata": {
    "collapsed": true
   },
   "outputs": [],
   "source": [
    "def isZE(word):\n",
    "    '''kontroluje, jestli možné, aby slovo bylo získané E-uzávěrem,\n",
    "    pokud ano, vrací normalizovanou bidirektivní posloupnost''' \n",
    "    l=1\n",
    "    prefixes = []\n",
    "    while l <= len(word):\n",
    "        if isEpal(word[:l]):\n",
    "            prefixes.append(word[:l])\n",
    "        l=l+1\n",
    "    #print(prefixes)\n",
    "    if not prefixes:\n",
    "        #print(\"No prefixes of type \" + str(closure) + \" were found\")\n",
    "        return([False])\n",
    "    if (len(prefixes[-1]) < len(word)//2) :\n",
    "        return([False])\n",
    "    if (len(prefixes[0]) != 2):\n",
    "        return([False])\n",
    "        \n",
    "    iszps = True\n",
    "    i=0\n",
    "    newtheta = \"E\"\n",
    "    newdelta = prefixes[0][0]\n",
    "    while(i+1 < len(prefixes) and iszps == True):\n",
    "        newletter = prefixes[i+1][len(prefixes[i])]\n",
    "        epalclo = makeEpalClosure(prefixes[i]+ newletter)\n",
    "\n",
    "        if(epalclo == prefixes[i+1]):\n",
    "            newtheta = newtheta + \"E\"\n",
    "            newdelta = newdelta + newletter\n",
    "        else:\n",
    "            iszps = False\n",
    "        i = i+1\n",
    "    return([iszps, newdelta, newtheta])"
   ]
  },
  {
   "cell_type": "code",
   "execution_count": 10,
   "metadata": {
    "collapsed": true
   },
   "outputs": [],
   "source": [
    "def timing(f):\n",
    "    def wrap(*args):\n",
    "        time1 = time.time()\n",
    "        ret = f(*args)\n",
    "        time2 = time.time()\n",
    "        print('%s function took %0.3f ms' % (f.__name__, (time2-time1)*1000.0))\n",
    "        return(ret)\n",
    "    return wrap"
   ]
  },
  {
   "cell_type": "code",
   "execution_count": 11,
   "metadata": {
    "collapsed": true
   },
   "outputs": [],
   "source": [
    "bad_prefixes = [\"(0R)*0E\", \"(1R)*1E\", \"(0R)+1E1E\", \"(1R)+0E0E\"]\n",
    "bad_factors = [\"1R0E1E\", \"1R1E0E\", \"0R0E1E\", \"0R1E0E\", \"1E0R1R\", \"1E1R0R\", \"0E0R1R\", \"0E1R0R\"]\n",
    "def makeBiseq(delta, theta):\n",
    "    \"\"\"Makes one sequence from tje bi-sequence delta andm theta\"\"\"\n",
    "    if len(delta) != len(theta):\n",
    "            print(\"délky delta a theta nejsou stejné\")\n",
    "            return \n",
    "    s = \"\"\n",
    "    for i in range(len(delta)):\n",
    "        s = s + delta[i] + theta[i]\n",
    "    return s\n",
    "\n",
    "def isNormalized(delta, theta):\n",
    "    biseq = makeBiseq(delta, theta)\n",
    "    if biseq.startswith(\"0R1R\") or biseq.startswith(\"1R0R\"):\n",
    "        print(\"je tam RR aa*\")\n",
    "        return False\n",
    "    elif (re.match(bad_prefixes[0], biseq) != None) or (re.match(bad_prefixes[1], biseq) != None):\n",
    "        print(\"je tam R^iE a^i\")\n",
    "        return False\n",
    "    elif (re.match(bad_prefixes[2], biseq) != None) or (re.match(bad_prefixes[3], biseq) != None):\n",
    "        print(\"je tam R^iEE a^ia*a*\")\n",
    "        return False\n",
    "    elif any(x in biseq for x in bad_factors):\n",
    "        print(\"ve slove je tt*t* abb*\")\n",
    "        return False\n",
    "    else:\n",
    "        return True"
   ]
  },
  {
   "cell_type": "code",
   "execution_count": 12,
   "metadata": {
    "collapsed": false
   },
   "outputs": [],
   "source": [
    "@timing\n",
    "def testGPW_S_on_GPW(deltas, thetas, steps, seed = \"\", normalized = False, \n",
    "                      closure = \"RE\", max_no_matters_closure_type = 0):\n",
    "    \"\"\"Funkce, která všechny delty a thety otestuje, uděla prefixy, operaci S a pak vyzkouší,\n",
    "    jestli získané slovo může být z zobec. pal. uz.\"\"\"\n",
    "    \n",
    "    printed = False\n",
    "    for delta in deltas:\n",
    "        for theta in thetas:\n",
    "            if(normalized == False or isNormalized(delta, theta)):\n",
    "                word = makeWord(delta, theta, steps, seed)\n",
    "                Sword = makeS(word)\n",
    "                result = isZps(Sword, closure, max_no_matters_closure_type)\n",
    "                if result[0]==True:\n",
    "                    #print(\"Slovo u:\" + word)\n",
    "                    #print(\"S(u):\" + Sword)\n",
    "                    print(\"delta = {0}, theta = {1} : {2} \".format(delta, theta, result))\n",
    "        print(\"\")"
   ]
  },
  {
   "cell_type": "code",
   "execution_count": 13,
   "metadata": {
    "collapsed": false
   },
   "outputs": [],
   "source": [
    "# Počet kroků\n",
    "steps = 2\n",
    "# Všechny kombinace pro delty a thety\n",
    "thetas = [''.join(i) for i in itertools.product('ER', repeat=steps)]\n",
    "deltas = [''.join(i) for i in itertools.product('01', repeat=steps)]"
   ]
  },
  {
   "cell_type": "code",
   "execution_count": 14,
   "metadata": {
    "collapsed": false
   },
   "outputs": [
    {
     "name": "stdout",
     "output_type": "stream",
     "text": [
      "01100110011001101100110011001100110110011001100110\n",
      "[False, '0', 'R']\n"
     ]
    }
   ],
   "source": [
    "word = makeWord(\"0111001010\", \"REERRRRRR\", 8)\n",
    "print(word)\n",
    "result = isZps(word,\"R\", 1)\n",
    "print(result)"
   ]
  },
  {
   "cell_type": "code",
   "execution_count": 23,
   "metadata": {
    "collapsed": false
   },
   "outputs": [
    {
     "name": "stdout",
     "output_type": "stream",
     "text": [
      "00 EE [True, '0101', 'RERE'] [True, '00', 'EE']\n",
      "00 ER [True, '010', 'RER'] [True, '0', 'E']\n",
      "00 RE [True, '001', 'RRE'] [False]\n",
      "00 RR [True, '00', 'RR'] [False]\n",
      "01 EE [True, '0110', 'RERE'] [True, '01', 'EE']\n",
      "01 ER [True, '011', 'RER'] [True, '0', 'E']\n",
      "01 RE [True, '01', 'RE'] [True, '0', 'E']\n",
      "01 RR [True, '010', 'RER'] [True, '0', 'E']\n",
      "10 EE [True, '1001', 'RERE'] [True, '10', 'EE']\n",
      "10 ER [True, '100', 'RER'] [True, '1', 'E']\n",
      "10 RE [True, '10', 'RE'] [True, '1', 'E']\n",
      "10 RR [True, '101', 'RER'] [True, '1', 'E']\n",
      "11 EE [True, '1010', 'RERE'] [True, '11', 'EE']\n",
      "11 ER [True, '101', 'RER'] [True, '1', 'E']\n",
      "11 RE [True, '110', 'RRE'] [False]\n",
      "11 RR [True, '11', 'RR'] [False]\n"
     ]
    }
   ],
   "source": [
    "# Funkce, která všechny delty a thety otestuje, uděla prefixy, operaci S a pak vyzkouší,\n",
    "# jestli získané slovo může být z zobec. pal. uz.\n",
    "for delta in deltas:\n",
    "        for theta in thetas:\n",
    "            word = makeWord(delta, theta, steps)\n",
    "            result = isZps(word)\n",
    "            result2 = isZE(word)\n",
    "            #print(delta, theta, result, result2)\n",
    "            if result[0]== True:\n",
    "                print(delta, theta, result, result2)"
   ]
  },
  {
   "cell_type": "code",
   "execution_count": 16,
   "metadata": {
    "collapsed": false
   },
   "outputs": [
    {
     "name": "stdout",
     "output_type": "stream",
     "text": [
      "je tam R^iE a^i\n",
      "je tam R^iE a^i\n",
      "je tam R^iE a^i\n",
      "delta = 00, theta = RR : [True, '0', 'R'] \n",
      "\n",
      "je tam R^iE a^i\n",
      "je tam R^iE a^i\n",
      "delta = 01, theta = RE : [True, '1', 'R'] \n",
      "je tam RR aa*\n",
      "\n",
      "je tam R^iE a^i\n",
      "je tam R^iE a^i\n",
      "delta = 10, theta = RE : [True, '1', 'R'] \n",
      "je tam RR aa*\n",
      "\n",
      "je tam R^iE a^i\n",
      "je tam R^iE a^i\n",
      "je tam R^iE a^i\n",
      "delta = 11, theta = RR : [True, '0', 'R'] \n",
      "\n",
      "testGPW_S_on_GPW function took 1.239 ms\n"
     ]
    }
   ],
   "source": [
    "testGPW_S_on_GPW(deltas, thetas, steps, \"\", True)"
   ]
  },
  {
   "cell_type": "code",
   "execution_count": 17,
   "metadata": {
    "collapsed": false
   },
   "outputs": [
    {
     "data": {
      "text/plain": [
       "''"
      ]
     },
     "execution_count": 17,
     "metadata": {},
     "output_type": "execute_result"
    }
   ],
   "source": [
    "\"ahoj\"[:0]"
   ]
  },
  {
   "cell_type": "code",
   "execution_count": 18,
   "metadata": {
    "collapsed": false
   },
   "outputs": [
    {
     "data": {
      "text/plain": [
       "False"
      ]
     },
     "execution_count": 18,
     "metadata": {},
     "output_type": "execute_result"
    }
   ],
   "source": [
    "a = 10\n",
    "b = 3\n",
    "(a<b) or (b!=3)"
   ]
  },
  {
   "cell_type": "code",
   "execution_count": null,
   "metadata": {
    "collapsed": true
   },
   "outputs": [],
   "source": []
  }
 ],
 "metadata": {
  "kernelspec": {
   "display_name": "Python 3",
   "language": "python",
   "name": "python3"
  },
  "language_info": {
   "codemirror_mode": {
    "name": "ipython",
    "version": 3
   },
   "file_extension": ".py",
   "mimetype": "text/x-python",
   "name": "python",
   "nbconvert_exporter": "python",
   "pygments_lexer": "ipython3",
   "version": "3.5.0"
  }
 },
 "nbformat": 4,
 "nbformat_minor": 0
}
