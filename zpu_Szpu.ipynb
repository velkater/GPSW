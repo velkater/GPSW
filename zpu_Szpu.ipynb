{
 "cells": [
  {
   "cell_type": "code",
   "execution_count": 2,
   "metadata": {
    "collapsed": false
   },
   "outputs": [],
   "source": [
    "import itertools\n",
    "import zpu as zpu"
   ]
  },
  {
   "cell_type": "markdown",
   "metadata": {},
   "source": [
    "##Příklad"
   ]
  },
  {
   "cell_type": "code",
   "execution_count": 3,
   "metadata": {
    "collapsed": false
   },
   "outputs": [],
   "source": [
    "n=500\n",
    "delta1 = \"110011001\"\n",
    "theta1 = \"RRRRRRRRR\" # dávat E\n",
    "word1 = zpu.makeWord(delta1, theta1, 8, \"00100100\")"
   ]
  },
  {
   "cell_type": "code",
   "execution_count": 4,
   "metadata": {
    "collapsed": false
   },
   "outputs": [
    {
     "name": "stdout",
     "output_type": "stream",
     "text": [
      "001001001001000100100100100010010010010010001001001001000100100100100100010010010010001001001001000100100100100100010010010010001001001001001000100100100100010010010010001001001001001000100100100100010010010010010001001001001000100100100100\n",
      "01101101101100110110110110011011011011011001101101101100110110110110110011011011011001101101101100110110110110110011011011011001101101101101100110110110110011011011011001101101101101100110110110110011011011011011001101101101100110110110110\n",
      "[True, '011111001100', 'RERRRRRRRRRR']\n"
     ]
    }
   ],
   "source": [
    "Sword1= zpu.makeS(word1)\n",
    "print(word1)\n",
    "print(Sword1)\n",
    "print(zpu.isZps(Sword1))"
   ]
  },
  {
   "cell_type": "markdown",
   "metadata": {},
   "source": [
    "##Analýza všech $\\delta$ a $\\theta$"
   ]
  },
  {
   "cell_type": "code",
   "execution_count": 12,
   "metadata": {
    "collapsed": false
   },
   "outputs": [],
   "source": [
    "# Počet kroků\n",
    "steps = 2\n",
    "# Všechny kombinace pro delty a thety\n",
    "thetas = [''.join(i) for i in itertools.product('ER', repeat=steps)]\n",
    "deltas = [''.join(i) for i in itertools.product('01', repeat=steps)]\n",
    "pop = thetas.pop() # vyloučíme RRR...R, který je poslední"
   ]
  },
  {
   "cell_type": "markdown",
   "metadata": {},
   "source": [
    "###Výsledky:"
   ]
  },
  {
   "cell_type": "code",
   "execution_count": 13,
   "metadata": {
    "collapsed": false
   },
   "outputs": [
    {
     "name": "stdout",
     "output_type": "stream",
     "text": [
      "delta = 00, theta = EE : [True, '111', 'RRR'] \n",
      "delta = 00, theta = ER : [True, '11', 'RR'] \n",
      "delta = 00, theta = RE : [True, '010', 'RER'] \n",
      "\n",
      "delta = 01, theta = EE : [True, '10101', 'RERER'] \n",
      "delta = 01, theta = ER : [True, '101', 'RER'] \n",
      "delta = 01, theta = RE : [True, '1', 'R'] \n",
      "\n",
      "delta = 10, theta = EE : [True, '10101', 'RERER'] \n",
      "delta = 10, theta = ER : [True, '101', 'RER'] \n",
      "delta = 10, theta = RE : [True, '1', 'R'] \n",
      "\n",
      "delta = 11, theta = EE : [True, '111', 'RRR'] \n",
      "delta = 11, theta = ER : [True, '11', 'RR'] \n",
      "delta = 11, theta = RE : [True, '010', 'RER'] \n",
      "\n",
      "testPrefixes function took 1.395 ms\n"
     ]
    }
   ],
   "source": [
    "# Funkce, která všechny delty a thety otestuje, uděla prefixy, operaci S a pak vyzkouší,\n",
    "# jestli získané slovo může být z zobec. pal. uz.\n",
    "zpu.testPrefixes(deltas, thetas, steps, \"\")"
   ]
  },
  {
   "cell_type": "code",
   "execution_count": null,
   "metadata": {
    "collapsed": true
   },
   "outputs": [],
   "source": []
  }
 ],
 "metadata": {
  "kernelspec": {
   "display_name": "Python 3",
   "language": "python",
   "name": "python3"
  },
  "language_info": {
   "codemirror_mode": {
    "name": "ipython",
    "version": 3
   },
   "file_extension": ".py",
   "mimetype": "text/x-python",
   "name": "python",
   "nbconvert_exporter": "python",
   "pygments_lexer": "ipython3",
   "version": "3.5.1"
  }
 },
 "nbformat": 4,
 "nbformat_minor": 0
}
