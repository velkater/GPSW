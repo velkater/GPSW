{
 "cells": [
  {
   "cell_type": "markdown",
   "metadata": {},
   "source": [
    "# Vyzkumak a SVOC"
   ]
  },
  {
   "cell_type": "code",
   "execution_count": 1,
   "metadata": {
    "collapsed": true
   },
   "outputs": [],
   "source": [
    "import gpc\n",
    "import itertools"
   ]
  },
  {
   "cell_type": "code",
   "execution_count": 2,
   "metadata": {
    "collapsed": false,
    "hide_input": false,
    "scrolled": true
   },
   "outputs": [],
   "source": [
    "# Number of steps\n",
    "steps = 2\n",
    "# Combinations of delta and theta\n",
    "thetas = [''.join(i) for i in itertools.product('ER', repeat=steps)]\n",
    "deltas = [''.join(i) for i in itertools.product('01', repeat=steps)]"
   ]
  },
  {
   "cell_type": "code",
   "execution_count": 35,
   "metadata": {
    "collapsed": false
   },
   "outputs": [
    {
     "name": "stdout",
     "output_type": "stream",
     "text": [
      "000100010001000 11 RR\n",
      "00110011001100\n",
      "[True, '000111', 'RRRRRR']\n",
      "[True, '00101010', 'RRERERER']\n",
      "['001011', 'RRERRR']\n",
      "\n"
     ]
    }
   ],
   "source": [
    "u = gpc.makeWord(\"11\", \"RR\", 2, seed = \"0001000\")\n",
    "print(u, delta, theta)\n",
    "print(gpc.makeS(u))\n",
    "print(gpc.isGPS(u))\n",
    "res = gpc.isGPS(gpc.makeS(u))\n",
    "print(res)\n",
    "if res[0] == True:\n",
    "    print(gpc.maximizeRinBiseq(res[1],res[2]))\n",
    "print(\"\")"
   ]
  },
  {
   "cell_type": "code",
   "execution_count": 36,
   "metadata": {
    "collapsed": false
   },
   "outputs": [
    {
     "name": "stdout",
     "output_type": "stream",
     "text": [
      "001001000111011011001001000111011011 00 EE\n",
      "01101100100110110101101100100110110\n",
      "[True, '001100', 'RRRREE']\n",
      "[False, '0111011', 'RERRERR']\n",
      "\n",
      "0010010001110110110111000100100 00 ER\n",
      "011011001001101101100100110110\n",
      "[True, '001100', 'RRRRER']\n",
      "[True, '0111011', 'RERRERR']\n",
      "['0111011', 'RERRERR']\n",
      "\n",
      "00100100010010001110110111011011 00 RE\n",
      "0110110011011001001101100110110\n",
      "[True, '001100', 'RRRRRE']\n",
      "[False, '011100', 'RERRRR']\n",
      "\n",
      "0010010001001000100100 00 RR\n",
      "011011001101100110110\n",
      "[True, '001100', 'RRRRRR']\n",
      "[True, '011100', 'RERRRR']\n",
      "['011100', 'RERRRR']\n",
      "\n",
      "00100100011101101110001001000111011011 01 EE\n",
      "0110110010011011001001101100100110110\n",
      "[True, '0011010', 'RRRRERE']\n",
      "[True, '0111010101', 'RERRERERER']\n",
      "['01110100', 'RERRERRR']\n",
      "\n",
      "0010010001110110111000100100 01 ER\n",
      "011011001001101100100110110\n",
      "[True, '001101', 'RRRRER']\n",
      "[True, '01110101', 'RERRERER']\n",
      "['0111010', 'RERRERR']\n",
      "\n",
      "001001000100100110110111011011 01 RE\n",
      "01101100110110101101100110110\n",
      "[True, '001101', 'RRRRRE']\n",
      "[False, '011101', 'RERRRR']\n",
      "\n",
      "0010010001001001000100100 01 RR\n",
      "011011001101101100110110\n",
      "[True, '001101', 'RRRRRR']\n",
      "[True, '011101', 'RERRRR']\n",
      "['011101', 'RERRRR']\n",
      "\n",
      "00100100110110110010010011011011 10 EE\n",
      "0110110101101101011011010110110\n",
      "[True, '0011101', 'RRRRERE']\n",
      "[False, '01111', 'RERRR']\n",
      "\n",
      "001001001101101100100100 10 ER\n",
      "01101101011011010110110\n",
      "[True, '001110', 'RRRRER']\n",
      "[False, '01111', 'RERRR']\n",
      "\n",
      "001001001000111011011011 10 RE\n",
      "01101101100100110110110\n",
      "[True, '001110', 'RRRRRE']\n",
      "[False, '011110', 'RERRRR']\n",
      "\n",
      "001001001000100100100 10 RR\n",
      "01101101100110110110\n",
      "[True, '001110', 'RRRRRR']\n",
      "[True, '011110', 'RERRRR']\n",
      "['011110', 'RERRRR']\n",
      "\n",
      "0010010011011011100010010011011011 11 EE\n",
      "011011010110110010011011010110110\n",
      "[True, '001111', 'RRRREE']\n",
      "[False]\n",
      "\n",
      "0010010011011011101101100100100 11 ER\n",
      "011011010110110011011010110110\n",
      "[True, '001111', 'RRRRER']\n",
      "[False, '01111', 'RERRR']\n",
      "\n",
      "0010010010011011011011 11 RE\n",
      "011011011010110110110\n",
      "[True, '001111', 'RRRRRE']\n",
      "[False, '011111', 'RERRRR']\n",
      "\n",
      "00100100100100 11 RR\n",
      "0110110110110\n",
      "[True, '001111', 'RRRRRR']\n",
      "[True, '011111', 'RERRRR']\n",
      "['011111', 'RERRRR']\n",
      "\n"
     ]
    }
   ],
   "source": [
    "for delta in deltas:\n",
    "    for theta in thetas:\n",
    "        u = gpc.makeWord(delta, theta, steps, seed = \"00100100\")\n",
    "        print(u, delta, theta)\n",
    "        print(gpc.makeS(u))\n",
    "        print(gpc.isGPS(u))\n",
    "        res = gpc.isGPS(gpc.makeS(u))\n",
    "        print(res)\n",
    "        if res[0] == True:\n",
    "            print(gpc.maximizeRinBiseq(res[1],res[2]))\n",
    "        print(\"\")"
   ]
  },
  {
   "cell_type": "code",
   "execution_count": 10,
   "metadata": {
    "collapsed": false
   },
   "outputs": [
    {
     "data": {
      "text/plain": [
       "['0101010101010101', 'RRRRRRRRRRRRRRRR']"
      ]
     },
     "execution_count": 10,
     "metadata": {},
     "output_type": "execute_result"
    }
   ],
   "source": []
  },
  {
   "cell_type": "code",
   "execution_count": 5,
   "metadata": {
    "collapsed": false
   },
   "outputs": [
    {
     "data": {
      "text/plain": [
       "32"
      ]
     },
     "execution_count": 5,
     "metadata": {},
     "output_type": "execute_result"
    }
   ],
   "source": []
  },
  {
   "cell_type": "code",
   "execution_count": null,
   "metadata": {
    "collapsed": true
   },
   "outputs": [],
   "source": []
  },
  {
   "cell_type": "code",
   "execution_count": null,
   "metadata": {
    "collapsed": true
   },
   "outputs": [],
   "source": []
  }
 ],
 "metadata": {
  "kernelspec": {
   "display_name": "Python 3",
   "language": "python",
   "name": "python3"
  },
  "language_info": {
   "codemirror_mode": {
    "name": "ipython",
    "version": 3
   },
   "file_extension": ".py",
   "mimetype": "text/x-python",
   "name": "python",
   "nbconvert_exporter": "python",
   "pygments_lexer": "ipython3",
   "version": "3.5.1"
  }
 },
 "nbformat": 4,
 "nbformat_minor": 0
}
