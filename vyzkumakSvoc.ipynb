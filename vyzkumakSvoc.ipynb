{
 "cells": [
  {
   "cell_type": "markdown",
   "metadata": {},
   "source": [
    "# Vyzkumak a SVOC"
   ]
  },
  {
   "cell_type": "code",
   "execution_count": 2,
   "metadata": {
    "collapsed": true
   },
   "outputs": [],
   "source": [
    "import gpc\n",
    "import itertools"
   ]
  },
  {
   "cell_type": "code",
   "execution_count": 3,
   "metadata": {
    "collapsed": false,
    "hide_input": false,
    "scrolled": true
   },
   "outputs": [],
   "source": [
    "# Number of steps\n",
    "steps = 2\n",
    "# Combinations of delta and theta\n",
    "thetas = [''.join(i) for i in itertools.product('ER', repeat=steps)]\n",
    "deltas = [''.join(i) for i in itertools.product('01', repeat=steps)]"
   ]
  },
  {
   "cell_type": "code",
   "execution_count": 6,
   "metadata": {
    "collapsed": false
   },
   "outputs": [
    {
     "name": "stdout",
     "output_type": "stream",
     "text": [
      "00110011001100\n",
      "[True, '000111', 'RRRRRR']\n",
      "[True, '00101010', 'RRERERER']\n",
      "['001011', 'RRERRR']\n",
      "\n"
     ]
    }
   ],
   "source": [
    "u = gpc.makeWord(\"11\", \"RR\", 2, seed = \"0001000\")\n",
    "print(gpc.makeS(u))\n",
    "print(gpc.isGPS(u))\n",
    "res = gpc.isGPS(gpc.makeS(u))\n",
    "print(res)\n",
    "if res[0] == True:\n",
    "    print(gpc.maximizeRinBiseq(res[1],res[2]))\n",
    "print(\"\")"
   ]
  },
  {
   "cell_type": "code",
   "execution_count": 7,
   "metadata": {
    "collapsed": false
   },
   "outputs": [
    {
     "name": "stdout",
     "output_type": "stream",
     "text": [
      "00010000111101110001000011110111 00 EE\n",
      "0011000100011001001100010001100\n",
      "[True, '000100', 'RRRREE']\n",
      "[False, '00100', 'RRERR']\n",
      "\n",
      "00010000111101110111100001000 00 ER\n",
      "0011000100011001100010001100\n",
      "[True, '000100', 'RRRRER']\n",
      "[False, '00100', 'RRERR']\n",
      "\n",
      "00010000100001111011110111 00 RE\n",
      "0011000110001000110001100\n",
      "[True, '000100', 'RRRRRE']\n",
      "[False, '001000', 'RRERRR']\n",
      "\n",
      "00010000100001000 00 RR\n",
      "0011000110001100\n",
      "[True, '000100', 'RRRRRR']\n",
      "[True, '001000', 'RRERRR']\n",
      "['001000', 'RRERRR']\n",
      "\n",
      "0001000011110111100001000011110111 01 EE\n",
      "001100010001100010001100010001100\n",
      "[True, '0001010', 'RRRRERE']\n",
      "[False]\n",
      "\n",
      "0001000011110111100001000 01 ER\n",
      "001100010001100010001100\n",
      "[True, '000101', 'RRRRER']\n",
      "[False, '00100', 'RRERR']\n",
      "\n",
      "000100001000111011110111 01 RE\n",
      "00110001100100110001100\n",
      "[True, '000101', 'RRRRRE']\n",
      "[False, '001001', 'RRERRR']\n",
      "\n",
      "000100001000100001000 01 RR\n",
      "00110001100110001100\n",
      "[True, '000101', 'RRRRRR']\n",
      "[True, '001001', 'RRERRR']\n",
      "['001001', 'RRERRR']\n",
      "\n",
      "0001000111011100010001110111 10 EE\n",
      "001100100110010011001001100\n",
      "[True, '0001101', 'RRRRERE']\n",
      "[False, '00101', 'RRERR']\n",
      "\n",
      "000100011101110001000 10 ER\n",
      "00110010011001001100\n",
      "[True, '000110', 'RRRRER']\n",
      "[False, '00101', 'RRERR']\n",
      "\n",
      "000100010000111101110111 10 RE\n",
      "00110011000100011001100\n",
      "[True, '000110', 'RRRRRE']\n",
      "[False, '0010100', 'RRERERR']\n",
      "\n",
      "00010001000010001000 10 RR\n",
      "0011001100011001100\n",
      "[True, '000110', 'RRRRRR']\n",
      "[True, '0010100', 'RRERERR']\n",
      "['001010', 'RRERRR']\n",
      "\n",
      "000100011101111000010001110111 11 EE\n",
      "00110010011000100011001001100\n",
      "[True, '000111', 'RRRREE']\n",
      "[False]\n",
      "\n",
      "00010001110111101110001000 11 ER\n",
      "0011001001100011001001100\n",
      "[True, '000111', 'RRRRER']\n",
      "[False, '00101', 'RRERR']\n",
      "\n",
      "0001000100011101110111 11 RE\n",
      "001100110010011001100\n",
      "[True, '000111', 'RRRRRE']\n",
      "[False, '0010101', 'RRERERR']\n",
      "\n",
      "000100010001000 11 RR\n",
      "00110011001100\n",
      "[True, '000111', 'RRRRRR']\n",
      "[True, '00101010', 'RRERERER']\n",
      "['001011', 'RRERRR']\n",
      "\n"
     ]
    }
   ],
   "source": [
    "for delta in deltas:\n",
    "    for theta in thetas:\n",
    "        u = gpc.makeWord(delta, theta, steps, seed = \"0001000\")\n",
    "        print(u, delta, theta)\n",
    "        print(gpc.makeS(u))\n",
    "        print(gpc.isGPS(u))\n",
    "        res = gpc.isGPS(gpc.makeS(u))\n",
    "        print(res)\n",
    "        if res[0] == True:\n",
    "            print(gpc.maximizeRinBiseq(res[1],res[2]))\n",
    "        print(\"\")"
   ]
  },
  {
   "cell_type": "code",
   "execution_count": 10,
   "metadata": {
    "collapsed": false
   },
   "outputs": [
    {
     "data": {
      "text/plain": [
       "['0101010101010101', 'RRRRRRRRRRRRRRRR']"
      ]
     },
     "execution_count": 10,
     "metadata": {},
     "output_type": "execute_result"
    }
   ],
   "source": []
  },
  {
   "cell_type": "code",
   "execution_count": 5,
   "metadata": {
    "collapsed": false
   },
   "outputs": [
    {
     "data": {
      "text/plain": [
       "32"
      ]
     },
     "execution_count": 5,
     "metadata": {},
     "output_type": "execute_result"
    }
   ],
   "source": []
  },
  {
   "cell_type": "code",
   "execution_count": null,
   "metadata": {
    "collapsed": true
   },
   "outputs": [],
   "source": []
  },
  {
   "cell_type": "code",
   "execution_count": null,
   "metadata": {
    "collapsed": true
   },
   "outputs": [],
   "source": []
  }
 ],
 "metadata": {
  "kernelspec": {
   "display_name": "Python 3",
   "language": "python",
   "name": "python3"
  },
  "language_info": {
   "codemirror_mode": {
    "name": "ipython",
    "version": 3
   },
   "file_extension": ".py",
   "mimetype": "text/x-python",
   "name": "python",
   "nbconvert_exporter": "python",
   "pygments_lexer": "ipython3",
   "version": "3.5.1"
  }
 },
 "nbformat": 4,
 "nbformat_minor": 0
}
