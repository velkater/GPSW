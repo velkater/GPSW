{
 "cells": [
  {
   "cell_type": "code",
   "execution_count": 1,
   "metadata": {
    "collapsed": true
   },
   "outputs": [],
   "source": [
    "import unittest"
   ]
  },
  {
   "cell_type": "code",
   "execution_count": 2,
   "metadata": {},
   "outputs": [
    {
     "name": "stdout",
     "output_type": "stream",
     "text": [
      "Prefixes from (delta, theta): ['0', '010', '010020', '0100202121101', '0100202121101211010202212', '01002021211012110102022121010020100202121101', '0100202121101211010202212101002010020212110102022120221210100202121101211010202212', '010020212110121101020221210100201002021211010202212022121010020212110121101020221210100201002021211010202212022121010020']\n",
      "Obtained word: 010020212110121101020221210100201002021211010202212022121010020212110121101020221210100201002021211010202212022121010020\n",
      "0\n",
      "01\n",
      "010\n",
      "010020\n",
      "0100202121101\n",
      "0100202121101211010202212\n",
      "01002021211012110102022121010020100202121101\n",
      "010020212110121101020221210100201002021211010202212022121010020\n",
      "0100202121101211010202212101002010020212110102022120221210100202121101211010202212\n",
      "01002021211012110102022121010020100202121101020221202212101002021211012110102022121010020100202121101\n",
      "010020212110121101020221210100201002021211010202212022121010020212110121101020221210100201002021211010202212022121010020\n",
      "[False, '01002210210', '02R02120120']\n",
      "\n",
      "at the beginning of isNormalized:['01022101', '0R021210']\n",
      "prefix rule: ['(001221)*001R', '120R', 15]\n",
      "at the beginning of isNormalized:['010022101', '02R021210']\n",
      "rule3: ['210', '121'] in biseq ['010022101', '02R021210']\n",
      "all non-prefix matches: [[14, '0021', 2]]\n",
      "Final change:[14, '0021', 2]\n",
      "at the beginning of isNormalized:['0100221021', '02R0212010']\n",
      "rule3: ['021', '010'] in biseq ['0100221021', '02R0212010']\n",
      "all non-prefix matches: [[18, '1200', 2]]\n",
      "Final change:[18, '1200', 2]\n",
      "at the beginning of isNormalized:['01002210210', '02R02120120']\n",
      "all non-prefix matches: []\n",
      "Final change:[]\n",
      "at the end of isNormalized:['01002210210', '02R02120120']\n",
      "at the beginning of isNormalized:['01021', '02R12']\n",
      "prefix rule: ['0012(0R12)*0R2112', '1022', 25]\n",
      "at the beginning of isNormalized:['010212', '02R102']\n",
      "all non-prefix matches: []\n",
      "Final change:[]\n",
      "at the end of isNormalized:['010212', '02R102']\n",
      "w1 = 0\n",
      "w2 = 01\n",
      "w3 = 010\n",
      "w4 = 010212\n",
      "w5 = 01021210202101\n",
      "['012012012', '210210210']\n",
      "['021021021', '120120120']\n",
      "['102102102', '201201201']\n",
      "['120120120', '021021021']\n",
      "['201201201', '102102102']\n",
      "['210210210', '012012012']\n",
      "0120   0210\n",
      "['201201201', '102102102']\n",
      "\n",
      "0120   1021\n",
      "['120120120', '021021021']\n",
      "\n",
      "0120   2102\n",
      "['012012012', '210210210']\n",
      "\n",
      "0210   0120\n",
      "['102102102', '201201201']\n",
      "\n",
      "0210   1201\n",
      "['021021021', '120120120']\n",
      "\n",
      "0210   2012\n",
      "['210210210', '012012012']\n",
      "\n",
      "1021   0120\n",
      "['021021021', '120120120']\n",
      "\n",
      "1021   1201\n",
      "['210210210', '012012012']\n",
      "\n",
      "1021   2012\n",
      "['102102102', '201201201']\n",
      "\n",
      "1201   0210\n",
      "['120120120', '021021021']\n",
      "\n",
      "1201   1021\n",
      "['012012012', '210210210']\n",
      "\n",
      "1201   2102\n",
      "['201201201', '102102102']\n",
      "\n",
      "2012   0210\n",
      "['012012012', '210210210']\n",
      "\n",
      "2012   1021\n",
      "['201201201', '102102102']\n",
      "\n",
      "2012   2102\n",
      "['120120120', '021021021']\n",
      "\n",
      "2102   0120\n",
      "['210210210', '012012012']\n",
      "\n",
      "2102   1201\n",
      "['102102102', '201201201']\n",
      "\n",
      "2102   2012\n",
      "['021021021', '120120120']\n",
      "\n"
     ]
    }
   ],
   "source": [
    "from Normalizace012 import *"
   ]
  },
  {
   "cell_type": "code",
   "execution_count": 3,
   "metadata": {
    "collapsed": true
   },
   "outputs": [],
   "source": [
    "testcases = [\n",
    "    (\"0012\", \"0020\", [False, '00120', '00210']),\n",
    "    (\"0210\", \"0122\", [False, '021021', '012012']),\n",
    "    (\"0112\", \"0211\", [False, '011201', '021021']), #ex rule 4 now rule 31\n",
    "    (\"0011\", \"00RR\", [True, \"0011\", \"00RR\"]),\n",
    "    (\"0102110\", \"02R0121\", [False, '01021102', '02R01201']),\n",
    "    (\"00210\", \"00122\", [False, '0021021', '0012012']),\n",
    "    (\"010\", \"022\", [False, '0101', '02R2']),\n",
    "    (\"011\", \"R11\", [False, '01211', '021R1']), # works with rule 26 rewritten\n",
    "    (\"0112\", \"0211\", [False, '011201', '021021']), # works after replacing + by * in rule 20\n",
    "    (\"01202\", \"02100\", [False, '012021', '0210R0']),\n",
    "    (\"0121\", \"0212\", [False, '01212', '021R2']), # works with rules 7 rewritten and corrected\n",
    "    (\"012111\", \"021R12\", [False, '0121112', '021R1R2']), # idem\n",
    "    (\"01\", \"0R\", [False, '010', '02R']), # removed rule 9\n",
    "    (\"011\", \"020\", [False, '0112', '0210']), # removed rule 5\n",
    "    (\"011\", \"022\", [False, '0110', '02R2']), # removed rule 6\n",
    "    (\"01\", \"01\", [False, '012', '021']), # removed rule 11, rule 13 for n=0\n",
    "    (\"0101\", \"02R1\", [False, '01012', '02R21']), # rewritten rule 13\n",
    "    (\"010101\", \"02R2R1\", [False, '0101012', '02R2R21']), # second check rule 13\n",
    "    (\"0101\", \"02RR\", [False, '01010', '02R2R']), # change of non-prefix rule 2\n",
    "    (\"0011\", \"00RR\", [True, '0011', '00RR']),\n",
    "    (\"010221\", \"02R011\", [False, '01022102', '02R01201']), # rule 30\n",
    "    (\"00112\", \"00211\", [False, '0011201', '0021021']), #rule 31\n",
    "    (\"010212\", \"02R100\", [False, '01021201', '02R10210']), #rule 32\n",
    "    (\"0121202\", \"021R200\", [False, '012120210', '021R20120']), #rule 33 l=0\n",
    "    (\"012111202\", \"021R1R200\", [False, '01211120210', '021R1R20120']) #rule 33 l=1\n",
    "]"
   ]
  },
  {
   "cell_type": "code",
   "execution_count": 4,
   "metadata": {
    "collapsed": true
   },
   "outputs": [],
   "source": [
    "class TestNormalizace012(unittest.TestCase):\n",
    "    def test_Ei(self):\n",
    "        self.assertEqual(Ei('1'), ['2', '1', '0'])\n",
    "        self.assertEqual(Ei('0'), ['0', '2', '1'])\n",
    "        self.assertEqual(Ei('2'), ['1', '0', '2'])\n",
    "    \n",
    "    def test_isEipal(self):\n",
    "        self.assertTrue(isEipal(\"012\", 1))        \n",
    "        \n",
    "    def test_normalize012(self):\n",
    "        for d, t, result in testcases:\n",
    "            self.assertEqual(normalize012(d, t), result, \n",
    "                             msg = \"problem: ({0}, {1})\".format(d, t))\n",
    "                                 \n",
    "    def test_is012NormalizedNaive(self):\n",
    "        for d, t, result in testcases:\n",
    "            self.assertEqual(is012NormalizedNaive(d, t, len(d)), result)"
   ]
  },
  {
   "cell_type": "code",
   "execution_count": 5,
   "metadata": {},
   "outputs": [
    {
     "name": "stderr",
     "output_type": "stream",
     "text": [
      "\n",
      "----------------------------------------------------------------------\n",
      "Ran 0 tests in 0.000s\n",
      "\n",
      "OK\n"
     ]
    },
    {
     "data": {
      "text/plain": [
       "<unittest.main.TestProgram at 0x7f540f7148d0>"
      ]
     },
     "execution_count": 5,
     "metadata": {},
     "output_type": "execute_result"
    }
   ],
   "source": [
    "unittest.main(argv=['ignored', '-v'], exit=False)"
   ]
  },
  {
   "cell_type": "code",
   "execution_count": null,
   "metadata": {
    "collapsed": true
   },
   "outputs": [],
   "source": []
  },
  {
   "cell_type": "code",
   "execution_count": null,
   "metadata": {
    "collapsed": true
   },
   "outputs": [],
   "source": []
  }
 ],
 "metadata": {
  "kernelspec": {
   "display_name": "Python 3",
   "language": "python",
   "name": "python3"
  },
  "language_info": {
   "codemirror_mode": {
    "name": "ipython",
    "version": 3
   },
   "file_extension": ".py",
   "mimetype": "text/x-python",
   "name": "python",
   "nbconvert_exporter": "python",
   "pygments_lexer": "ipython3",
   "version": "3.6.1"
  }
 },
 "nbformat": 4,
 "nbformat_minor": 2
}
