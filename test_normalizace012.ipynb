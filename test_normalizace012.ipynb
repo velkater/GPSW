{
 "cells": [
  {
   "cell_type": "code",
   "execution_count": 1,
   "metadata": {
    "collapsed": true
   },
   "outputs": [],
   "source": [
    "import unittest"
   ]
  },
  {
   "cell_type": "code",
   "execution_count": 2,
   "metadata": {},
   "outputs": [
    {
     "name": "stdout",
     "output_type": "stream",
     "text": [
      "Prefixes from (delta, theta): ['0', '01', '012', '01210', '01210201', '0121020102120', '0121020102120210121020102120']\n",
      "Obtained word: 0121020102120210121020102120\n",
      "0\n",
      "01\n",
      "012\n",
      "01210\n",
      "01210201\n",
      "0121020102120\n",
      "012102010212021012\n",
      "01210201021202101210201\n",
      "0121020102120210121020102120\n",
      "[False, '012120210', '021R20120']\n",
      "\n",
      "at the beginning of isNormalized:['0121202', '021R200']\n",
      "prefix rule: ['001221(1R11)*1R220020', '211200', 33]\n",
      "at the beginning of isNormalized:['012120210', '021R20120']\n",
      "all non-prefix matches: []\n",
      "Final change:[]\n",
      "at the end of isNormalized:['012120210', '021R20120']\n"
     ]
    }
   ],
   "source": [
    "from Normalizace012 import *"
   ]
  },
  {
   "cell_type": "code",
   "execution_count": 3,
   "metadata": {
    "collapsed": true
   },
   "outputs": [],
   "source": [
    "testcases = [\n",
    "    (\"0012\", \"0020\", [False, '00120', '00210']),\n",
    "    (\"0210\", \"0122\", [False, '021021', '012012']),\n",
    "    (\"0112\", \"0211\", [False, '011201', '021021']), #ex rule 4 now rule 31\n",
    "    (\"0011\", \"00RR\", [True, \"0011\", \"00RR\"]),\n",
    "    (\"0102110\", \"02R0121\", [False, '01021102', '02R01201']),\n",
    "    (\"00210\", \"00122\", [False, '0021021', '0012012']),\n",
    "    (\"010\", \"022\", [False, '0101', '02R2']),\n",
    "    (\"011\", \"R11\", [False, '01211', '021R1']), # works with rule 26 rewritten\n",
    "    (\"0112\", \"0211\", [False, '011201', '021021']), # works after replacing + by * in rule 20\n",
    "    (\"01202\", \"02100\", [False, '012021', '0210R0']),\n",
    "    (\"0121\", \"0212\", [False, '01212', '021R2']), # works with rules 7 rewritten and corrected\n",
    "    (\"012111\", \"021R12\", [False, '0121112', '021R1R2']), # idem\n",
    "    (\"01\", \"0R\", [False, '010', '02R']), # removed rule 9\n",
    "    (\"011\", \"020\", [False, '0112', '0210']), # removed rule 5\n",
    "    (\"011\", \"022\", [False, '0110', '02R2']), # removed rule 6\n",
    "    (\"01\", \"01\", [False, '012', '021']), # removed rule 11, rule 13 for n=0\n",
    "    (\"0101\", \"02R1\", [False, '01012', '02R21']), # rewritten rule 13\n",
    "    (\"010101\", \"02R2R1\", [False, '0101012', '02R2R21']), # second check rule 13\n",
    "    (\"0101\", \"02RR\", [False, '01010', '02R2R']), # change of non-prefix rule 2\n",
    "    (\"0011\", \"00RR\", [True, '0011', '00RR']),\n",
    "    (\"010221\", \"02R011\", [False, '01022102', '02R01201']), # rule 30\n",
    "    (\"00112\", \"00211\", [False, '0011201', '0021021']), #rule 31\n",
    "    (\"010212\", \"02R100\", [False, '01021201', '02R10210']), #rule 32\n",
    "    (\"0121202\", \"021R200\", [False, '012120210', '021R20120']), #rule 33 l=0\n",
    "    (\"012111202\", \"021R1R200\", [False, '01211120210', '021R1R20120']) #rule 33 l=1\n",
    "]"
   ]
  },
  {
   "cell_type": "code",
   "execution_count": 4,
   "metadata": {
    "collapsed": true
   },
   "outputs": [],
   "source": [
    "class TestNormalizace012(unittest.TestCase):\n",
    "    def test_Ei(self):\n",
    "        self.assertEqual(Ei('1'), ['2', '1', '0'])\n",
    "        self.assertEqual(Ei('0'), ['0', '2', '1'])\n",
    "        self.assertEqual(Ei('2'), ['1', '0', '2'])\n",
    "    \n",
    "    def test_isEipal(self):\n",
    "        self.assertTrue(isEipal(\"012\", 1))        \n",
    "        \n",
    "    def test_normalize012(self):\n",
    "        for d, t, result in testcases:\n",
    "            self.assertEqual(normalize012(d, t), result, \n",
    "                             msg = \"problem: ({0}, {1})\".format(d, t))\n",
    "                                 \n",
    "    def test_is012NormalizedNaive(self):\n",
    "        for d, t, result in testcases:\n",
    "            self.assertEqual(is012NormalizedNaive(d, t, len(d)), result)"
   ]
  },
  {
   "cell_type": "code",
   "execution_count": 5,
   "metadata": {},
   "outputs": [
    {
     "name": "stderr",
     "output_type": "stream",
     "text": [
      "test_Ei (__main__.TestNormalizace012) ... ok\n",
      "test_is012NormalizedNaive (__main__.TestNormalizace012) ... ok\n",
      "test_isEipal (__main__.TestNormalizace012) ... ok\n",
      "test_normalize012 (__main__.TestNormalizace012) ... ok\n",
      "\n",
      "----------------------------------------------------------------------\n",
      "Ran 4 tests in 0.131s\n",
      "\n",
      "OK\n"
     ]
    },
    {
     "data": {
      "text/plain": [
       "<unittest.main.TestProgram at 0x7feaa458cf28>"
      ]
     },
     "execution_count": 5,
     "metadata": {},
     "output_type": "execute_result"
    }
   ],
   "source": [
    "unittest.main(argv=['ignored', '-v'], exit=False)"
   ]
  },
  {
   "cell_type": "code",
   "execution_count": null,
   "metadata": {
    "collapsed": true
   },
   "outputs": [],
   "source": []
  },
  {
   "cell_type": "code",
   "execution_count": null,
   "metadata": {
    "collapsed": true
   },
   "outputs": [],
   "source": []
  }
 ],
 "metadata": {
  "kernelspec": {
   "display_name": "Python 3",
   "language": "python",
   "name": "python3"
  },
  "language_info": {
   "codemirror_mode": {
    "name": "ipython",
    "version": 3
   },
   "file_extension": ".py",
   "mimetype": "text/x-python",
   "name": "python",
   "nbconvert_exporter": "python",
   "pygments_lexer": "ipython3",
   "version": "3.6.1"
  }
 },
 "nbformat": 4,
 "nbformat_minor": 2
}
