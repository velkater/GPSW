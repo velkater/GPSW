{
 "cells": [
  {
   "cell_type": "markdown",
   "metadata": {},
   "source": [
    "# Zobecněný pseudopalindromický uzávěr"
   ]
  },
  {
   "cell_type": "markdown",
   "metadata": {},
   "source": [
    "## Funkce pro vytvoření zobecněného pseudopalindromického uzávěru"
   ]
  },
  {
   "cell_type": "code",
   "execution_count": 1,
   "metadata": {
    "collapsed": true
   },
   "outputs": [],
   "source": [
    "import time\n",
    "import re"
   ]
  },
  {
   "cell_type": "code",
   "execution_count": 2,
   "metadata": {
    "collapsed": false
   },
   "outputs": [],
   "source": [
    "def isPal(seq):\n",
    "    \"kontroluje jestli řetězec je palindrom\"\n",
    "    l = len(seq)\n",
    "    if l == 1:\n",
    "        return(True)\n",
    "    for x in range(0, l//2):\n",
    "        if seq[x] != seq[l-1-x]:\n",
    "            return(False)\n",
    "    return(True)\n",
    "\n",
    "def isEpal(seq):\n",
    "    \"kontroluje jestli řetězec je pseudopalindrom\"\n",
    "    l = len(seq)\n",
    "    if l%2 == 1:\n",
    "        return(False)\n",
    "    for x in range(0, l//2):\n",
    "        if seq[x] == seq[l-1-x]:\n",
    "            return(False)\n",
    "    return(True)"
   ]
  },
  {
   "cell_type": "code",
   "execution_count": 3,
   "metadata": {
    "collapsed": false
   },
   "outputs": [],
   "source": [
    "def makePalClosure (seq):\n",
    "    \"udělá z řetězce palindromický uzávěr\"\n",
    "    if isPal(seq) == True:\n",
    "        return(seq)\n",
    "    i = 1\n",
    "    while isPal(seq[i:]) != True:\n",
    "        i = i+1\n",
    "    #print(\"    {0} nejdelší palindromický uzávěr : {1}\".format(seq,seq[i:]))\n",
    "    #print(\"    délka nejdelší palindromický uzávěr : {0}\".format(len(seq[i:])))\n",
    "    closure = seq + seq[i-1::-1]\n",
    "    return(closure)\n",
    "\n",
    "def makeEpalClosure (seq):\n",
    "    \"udělá z řetězce pseudopalindromický uzávěr\"\n",
    "    if isEpal(seq) == True:\n",
    "        return(seq)\n",
    "    i = 1\n",
    "    while isEpal(seq[i:]) != True:\n",
    "        i = i+1\n",
    "    #print(\"    {0} nejdelší pseudopalindromický uzávěr : {1}\".format(seq,seq[i:]))\n",
    "    closure = seq\n",
    "    pref = seq[i-1::-1]\n",
    "    for letter in pref:\n",
    "        if letter == \"0\":\n",
    "            closure = closure + \"1\"\n",
    "        if letter == \"1\":\n",
    "            closure = closure + \"0\"\n",
    "    return(closure)"
   ]
  },
  {
   "cell_type": "code",
   "execution_count": 4,
   "metadata": {
    "collapsed": false
   },
   "outputs": [],
   "source": [
    "def makeWord(delta, theta, steps, seed = \"\"):\n",
    "    \"vytvoří slovo pomocí řídící posloupnosti a posloupnosti uzávěrů\"\n",
    "    w = seed\n",
    "    for step in range(0,steps):\n",
    "        w = w + delta[step]\n",
    "        if theta[step] == \"R\":\n",
    "            w = makePalClosure(w)\n",
    "        if theta[step] == \"E\":\n",
    "            w = makeEpalClosure(w)\n",
    "        #print(\"w{0} = {1}\".format(step+1,w))\n",
    "    return(w)"
   ]
  },
  {
   "cell_type": "code",
   "execution_count": 5,
   "metadata": {
    "collapsed": false
   },
   "outputs": [],
   "source": [
    "def makeS(word):\n",
    "    \"udělá operaci S na slovo\"\n",
    "    Sword = \"\"\n",
    "    for i in range(0,len(word)-1):\n",
    "        Sword += str((int(word[i]) + int(word[i+1])) %2)\n",
    "    return Sword"
   ]
  },
  {
   "cell_type": "code",
   "execution_count": 6,
   "metadata": {
    "collapsed": false
   },
   "outputs": [],
   "source": [
    "def isZps(word, closure = \"ER\", max_no_matters_closure_type = 0):\n",
    "    '''kontroluje, jestli možné, aby slovo bylo získané zobec. pal. uzávěrem,\n",
    "    pokud ano, vrací normalizovanou bidirektivní posloupnost''' \n",
    "    maximum = max_no_matters_closure_type\n",
    "    l=1\n",
    "    prefixes = []\n",
    "    while l <= len(word):\n",
    "        if ((l<=maximum or closure != \"E\") and isPal(word[:l])) or \\\n",
    "        ((l<=maximum or closure != \"R\") and isEpal(word[:l])):\n",
    "            prefixes.append(word[:l])\n",
    "        l=l+1\n",
    "    #print(prefixes)\n",
    "    \n",
    "    if not prefixes:\n",
    "        #print(\"No prefixes of type \" + str(closure) + \" were found\")\n",
    "        return([False])\n",
    "    if (len(prefixes[0]) > 2) or (len(prefixes[-1]) < len(word)//2) :\n",
    "        return([False])        \n",
    "        \n",
    "    iszps = True\n",
    "    i=0\n",
    "    if closure != \"E\":\n",
    "        newtheta = \"R\"\n",
    "        newdelta = prefixes[0]\n",
    "    else:\n",
    "        newtheta = \"E\"\n",
    "        newdelta = prefixes[0][0]\n",
    "        \n",
    "    while(i+1 < len(prefixes) and iszps == True):\n",
    "        newletter = prefixes[i+1][len(prefixes[i])]\n",
    "        condition_noE = (len(prefixes[i+1]) <= maximum) or (closure != \"E\")\n",
    "        condition_noR = (len(prefixes[i+1]) <= maximum) or (closure != \"R\")\n",
    "        if (condition_noE):\n",
    "            palclo = makePalClosure(prefixes[i]+ newletter)\n",
    "        if (condition_noR):\n",
    "            epalclo = makeEpalClosure(prefixes[i]+ newletter)\n",
    "\n",
    "        if(condition_noE and palclo == prefixes[i+1]):\n",
    "            newtheta = newtheta + \"R\"\n",
    "            newdelta = newdelta + newletter\n",
    "        elif(condition_noR and epalclo == prefixes[i+1]):\n",
    "            newtheta = newtheta + \"E\"\n",
    "            newdelta = newdelta + newletter\n",
    "        else:\n",
    "            iszps = False\n",
    "        i = i+1\n",
    "    return([iszps, newdelta, newtheta])"
   ]
  },
  {
   "cell_type": "code",
   "execution_count": 7,
   "metadata": {
    "collapsed": true
   },
   "outputs": [],
   "source": [
    "def timing(f):\n",
    "    def wrap(*args):\n",
    "        time1 = time.time()\n",
    "        ret = f(*args)\n",
    "        time2 = time.time()\n",
    "        print('%s function took %0.3f ms' % (f.__name__, (time2-time1)*1000.0))\n",
    "        return(ret)\n",
    "    return wrap"
   ]
  },
  {
   "cell_type": "markdown",
   "metadata": {},
   "source": [
    "## Normalizace a bi-posloupnosti"
   ]
  },
  {
   "cell_type": "code",
   "execution_count": 8,
   "metadata": {
    "collapsed": true
   },
   "outputs": [],
   "source": [
    "bad_prefixes = [\"(0R)*0E\", \"(1R)*1E\", \"(0R)+1E1E\", \"(1R)+0E0E\"]\n",
    "bad_factors = [\"1R0E1E\", \"1R1E0E\", \"0R0E1E\", \"0R1E0E\", \"1E0R1R\", \"1E1R0R\", \"0E0R1R\", \"0E1R0R\"]"
   ]
  },
  {
   "cell_type": "code",
   "execution_count": 9,
   "metadata": {
    "collapsed": true
   },
   "outputs": [],
   "source": [
    "def makeBiseq(delta, theta):\n",
    "    \"\"\"Makes one sequence from the bi-sequence delta andm theta\"\"\"\n",
    "    if len(delta) != len(theta):\n",
    "            print(\"délky delta a theta nejsou stejné\")\n",
    "            return \n",
    "    s = \"\"\n",
    "    for i in range(len(delta)):\n",
    "        s = s + delta[i] + theta[i]\n",
    "    return s\n",
    "def parseBiseq(biseq):\n",
    "    \"\"\"Makes from one sequence the bi-sequence delta and theta\"\"\"\n",
    "    delta = \"\"\n",
    "    theta = \"\"\n",
    "    for i in range(len(biseq)):\n",
    "        if i%2 == 0:\n",
    "            delta = delta + biseq[i]\n",
    "        else:\n",
    "            theta = theta + biseq[i]\n",
    "    return [delta, theta]"
   ]
  },
  {
   "cell_type": "code",
   "execution_count": 10,
   "metadata": {
    "collapsed": true
   },
   "outputs": [],
   "source": [
    "def repare_ii(match, a):\n",
    "    a_bar = [\"1\", \"0\"]\n",
    "    length = match.end()\n",
    "    s = match.string\n",
    "    s = s[length:]\n",
    "    s = a_bar[int(a)] + \"E\" + s\n",
    "    s = (a + \"R\") * int(length/2) + s\n",
    "    return s\n",
    "    \n",
    "def repare_iii(match, a):\n",
    "    a_bar = [\"1\", \"0\"]\n",
    "    length = match.end()\n",
    "    s = match.string\n",
    "    s = s[length:]\n",
    "    s = a_bar[int(a)] + \"E\" + a_bar[int(a)] + \"R\" + a + \"E\" + s\n",
    "    s = (a + \"R\") * int((length-4)/2) + s\n",
    "    return s\n",
    "    \n",
    "def rep_0(match):\n",
    "    return repare_ii(match, \"0\")\n",
    "    \n",
    "def rep_1(match):\n",
    "    return repare_ii(match, \"1\")\n",
    "    \n",
    "def rep_2(match):\n",
    "    return repare_iii(match, \"0\")\n",
    "    \n",
    "def rep_3(match):\n",
    "    return repare_iii(match, \"1\")\n",
    "    \n",
    "norm_replace_functions = [rep_0, rep_1, rep_2, rep_3]"
   ]
  },
  {
   "cell_type": "code",
   "execution_count": 11,
   "metadata": {
    "collapsed": true
   },
   "outputs": [],
   "source": [
    "def Normalize(delta, theta):\n",
    "    biseq = makeBiseq(delta, theta)\n",
    "    if biseq.startswith(\"0R1R\"):\n",
    "        biseq = biseq.replace(\"0R1R\", \"0R1E0R\", 1)\n",
    "    elif biseq.startswith(\"1R0R\"):\n",
    "        biseq = biseq.replace(\"1R0R\", \"1R0E1R\", 1)\n",
    "    else:\n",
    "        i = 0\n",
    "        matched = re.match(bad_prefixes[i], biseq)\n",
    "        #print(matched)\n",
    "        while (i<4) and (matched == None):\n",
    "            i = i+1\n",
    "            if i<4:\n",
    "                matched = re.match(bad_prefixes[i], biseq)\n",
    "                #print(matched)\n",
    "            \n",
    "        if i < 4:\n",
    "            #print(\"pattern: \" + str(i))\n",
    "            biseq = norm_replace_functions[i](matched)\n",
    "    \n",
    "    i=0\n",
    "    while (i < len(biseq) - 5):\n",
    "        j = 0\n",
    "        while (j <  8) and (biseq[i:i+6] != bad_factors[j]):\n",
    "            j = j+1\n",
    "        if (j == 8):\n",
    "            i = i+1\n",
    "        else:\n",
    "            bad = bad_factors[j]\n",
    "            #print(parseBiseq(bad))\n",
    "            biseq = biseq.replace(bad, bad[0:5] + bad[1] + bad[2:4], 1)\n",
    "            #print(parseBiseq(biseq))\n",
    "            i = max(0, i+2)\n",
    "    return parseBiseq(biseq)"
   ]
  },
  {
   "cell_type": "code",
   "execution_count": 12,
   "metadata": {
    "collapsed": true
   },
   "outputs": [],
   "source": [
    "def isNormalized(delta, theta, verbose = \"False\"):\n",
    "    biseq = makeBiseq(delta, theta)\n",
    "    if biseq.startswith(\"0R1R\") or biseq.startswith(\"1R0R\"):\n",
    "        if verbose:\n",
    "            print(\"je tam RR aa*\")\n",
    "        return False\n",
    "    elif (re.match(bad_prefixes[0], biseq) != None) or (re.match(bad_prefixes[1], biseq) != None):\n",
    "        if verbose:\n",
    "            print(\"je tam R^iE a^i\")\n",
    "        return False\n",
    "    elif (re.match(bad_prefixes[2], biseq) != None) or (re.match(bad_prefixes[3], biseq) != None):\n",
    "        if verbose:\n",
    "            print(\"je tam R^iEE a^ia*a*\")\n",
    "        return False\n",
    "    elif any(x in biseq for x in bad_factors):\n",
    "        if verbose:\n",
    "            print(\"ve slove je tt*t* abb*\")\n",
    "        return False\n",
    "    else:\n",
    "        return True"
   ]
  },
  {
   "cell_type": "code",
   "execution_count": 13,
   "metadata": {
    "collapsed": true
   },
   "outputs": [],
   "source": [
    "def rreplace(s, old, new, occurrence):\n",
    "    li = s.rsplit(old, occurrence)\n",
    "    return new.join(li)"
   ]
  },
  {
   "cell_type": "code",
   "execution_count": 14,
   "metadata": {
    "collapsed": true
   },
   "outputs": [],
   "source": [
    "def maximizeRinBiseq(delta, theta):\n",
    "    delta, theta = Normalize(delta, theta)\n",
    "    biseq = makeBiseq(delta, theta)\n",
    "    print(biseq)\n",
    "    badfact = [\"0E0R1E0R\", \"0E1R0E1R\", \"1E0R1E0R\", \"1E1R0E1R\" ]\n",
    "    replacement = [\"0E0R1R\", \"0E1R0R\", \"1E0R1R\", \"1E1R0R\" ]\n",
    "    l = len(biseq)\n",
    "    if l >= 8:\n",
    "        i = l-8\n",
    "        while (i >= 0):\n",
    "            j=0\n",
    "            substring = biseq[i:i+8]\n",
    "            while (j <  4) and (substring != badfact[j]):\n",
    "                j = j+1\n",
    "            if (j == 4):\n",
    "                i = i-1\n",
    "            else:\n",
    "                bad = badfact[j]\n",
    "                print(parseBiseq(bad))\n",
    "                biseq = rreplace(biseq, substring, replacement[j],1)\n",
    "                print(parseBiseq(biseq))\n",
    "                i = i-2\n",
    "    if biseq.startswith(\"1R0E1R\"):\n",
    "        biseq = biseq.replace(\"0R1E0R\", \"0R1R\", 1)\n",
    "    elif biseq.startswith(\"1R0R\"):\n",
    "        biseq = biseq.replace(\"1R0E1R\", \"1R0R\", 1)\n",
    "        \n",
    "    return parseBiseq(biseq)"
   ]
  },
  {
   "cell_type": "markdown",
   "metadata": {},
   "source": [
    "## Testování"
   ]
  },
  {
   "cell_type": "code",
   "execution_count": 15,
   "metadata": {
    "collapsed": false
   },
   "outputs": [],
   "source": [
    "def _testGPW(deltas, thetas, steps, seed = \"\", normalized = False, \n",
    "                      closure = \"RE\", max_no_matters_closure_type = 0, additional_operation = \"\"):\n",
    "    \"\"\"Funkce, která všechny delty a thety otestuje, uděla prefixy, (případně další operaci) a pak vyzkouší,\n",
    "    jestli získané slovo může být z zobec. pal. uz.\"\"\"\n",
    "    \n",
    "    printed = False\n",
    "    for delta in deltas:\n",
    "        for theta in thetas:\n",
    "            if(normalized == False or isNormalized(delta, theta)):\n",
    "                word = makeWord(delta, theta, steps, seed)\n",
    "                testedword = word\n",
    "                if additional_operation == \"S\":\n",
    "                    testedword = makeS(word)\n",
    "                result = isZps(testedword, closure, max_no_matters_closure_type)\n",
    "                if result[0]==True:\n",
    "                    #print(\"Slovo u:\" + word)\n",
    "                    #print(additional_operation + \"(u):\" + testedword)\n",
    "                    print(\"delta = {0}, theta = {1} : {2} \".format(delta, theta, result))\n",
    "        print(\"\")"
   ]
  },
  {
   "cell_type": "code",
   "execution_count": 16,
   "metadata": {
    "collapsed": false
   },
   "outputs": [],
   "source": [
    "@timing\n",
    "def testGPW_S_on_GPW(deltas, thetas, steps, seed = \"\", normalized = False, \n",
    "                      closure = \"RE\", max_no_matters_closure_type = 0):\n",
    "    \"\"\"Funkce, která všechny delty a thety otestuje, uděla prefixy, operaci S a pak vyzkouší,\n",
    "    jestli získané slovo může být z zobec. pal. uz.\"\"\"\n",
    "    \n",
    "    _testGPW(deltas, thetas, steps, seed, normalized, closure, max_no_matters_closure_type, \"S\")"
   ]
  },
  {
   "cell_type": "code",
   "execution_count": 17,
   "metadata": {
    "collapsed": false
   },
   "outputs": [],
   "source": [
    "@timing\n",
    "def testGPW(deltas, thetas, steps, seed = \"\", normalized = False, \n",
    "                      closure = \"RE\", max_no_matters_closure_type = 0):\n",
    "    \"\"\"Funkce, která všechny delty a thety otestuje, uděla prefixy a pak vyzkouší,\n",
    "    jestli získané slovo může být z zobec. pal. uz.\"\"\"\n",
    "    \n",
    "    _testGPW(deltas, thetas, steps, seed, normalized, closure, max_no_matters_closure_type)"
   ]
  }
 ],
 "metadata": {
  "kernelspec": {
   "display_name": "Python 3",
   "language": "python",
   "name": "python3"
  },
  "language_info": {
   "codemirror_mode": {
    "name": "ipython",
    "version": 3
   },
   "file_extension": ".py",
   "mimetype": "text/x-python",
   "name": "python",
   "nbconvert_exporter": "python",
   "pygments_lexer": "ipython3",
   "version": "3.5.0"
  }
 },
 "nbformat": 4,
 "nbformat_minor": 0
}
